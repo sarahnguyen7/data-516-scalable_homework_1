{
 "cells": [
  {
   "cell_type": "markdown",
   "metadata": {},
   "source": [
    "# Homework 1, Scalable Data\n",
    "As part of the data team, you need to transform various datasets to create the following:\n",
    "\n",
    "1. The table of extended quantites per component for all programs.\n",
    "2. The table of total cost per program per vendor, based on the latest received quote.\n",
    "3. The table of total cost per program per vendor, based on the first received quote.\n",
    "4. The table of \"best-in-class\" total cost per program (regardless of vendor).\n",
    "\n",
    "These four tables must be the final outputs of your notebook. If not, we will not grade your assignment beyond the attempt. Our TAs will not execute your code. The notebook you upload to Canvas must have been executed, with all tables shown as output."
   ]
  },
  {
   "cell_type": "code",
   "execution_count": 16,
   "metadata": {},
   "outputs": [],
   "source": [
    "import polars as pl\n",
    "from datetime import datetime"
   ]
  },
  {
   "cell_type": "markdown",
   "metadata": {},
   "source": [
    "## Part 1: Extended quantities per component for all programs\n",
    "Task: \n",
    "A table detailing the total server rack quantity for each component across all programs. Each record in the table should represent a distinct component. Each attribute of the table should represent a distinct program. The intersection of record and attribute should represent the total extended quantity of parts for that component and program combination.\n",
    "\n",
    "Process:\n",
    "First, we want to get all of the scaled quantities in one table. I multiplied the amount of servers listed for each program to every item in `server_specs`. Then, I concatenated the remaining of the items for `rack_specs` to get a list of scaled quantities to allow us to calculate the total cost per program per vendor."
   ]
  },
  {
   "cell_type": "code",
   "execution_count": 13,
   "metadata": {},
   "outputs": [],
   "source": [
    "# read in csv files and their respective sheets\n",
    "server_specs = pl.read_excel('program configurations.xlsx', sheet_name='server_specs')\n",
    "rack_specs = pl.read_excel('program configurations.xlsx', sheet_name='rack_specs')\n"
   ]
  },
  {
   "cell_type": "code",
   "execution_count": null,
   "metadata": {},
   "outputs": [],
   "source": [
    "# filter rack_specs df to get only row where itme is SERVERS\n",
    "# remove item column to only leave numerical quantities for each server\n",
    "# then, get only first row from filtered df to get the quantities which outputs [12,8,14,10,10]\n",
    "servers_quantities = rack_specs.filter(pl.col('Item') == 'SERVERS').select(pl.exclude('Item')).row(0)\n",
    "\n",
    "# multiply each component in server_specs by the corresponding SERVERS quantity\n",
    "# we want (pl.col('Server A') * servers_quantities[0]).alias('Server A') for each server\n",
    "\n",
    "server_columns = ['Server A', 'Server B', 'Server C', 'Server D', 'Server E']\n",
    "scaled_servers_quantities = server_specs.with_columns([\n",
    "    (pl.col(server) * servers_quantities[i]).alias(server) \n",
    "    for i, server in enumerate(server_columns)\n",
    "])"
   ]
  },
  {
   "cell_type": "code",
   "execution_count": 14,
   "metadata": {},
   "outputs": [
    {
     "name": "stdout",
     "output_type": "stream",
     "text": [
      "Table with Extended Quantities Per Component for All Programs\n"
     ]
    },
    {
     "data": {
      "text/html": [
       "<div><style>\n",
       ".dataframe > thead > tr,\n",
       ".dataframe > tbody > tr {\n",
       "  text-align: right;\n",
       "  white-space: pre-wrap;\n",
       "}\n",
       "</style>\n",
       "<small>shape: (11, 6)</small><table border=\"1\" class=\"dataframe\"><thead><tr><th>Item</th><th>Server A</th><th>Server B</th><th>Server C</th><th>Server D</th><th>Server E</th></tr><tr><td>str</td><td>i64</td><td>i64</td><td>i64</td><td>i64</td><td>i64</td></tr></thead><tbody><tr><td>&quot;CPU&quot;</td><td>24</td><td>16</td><td>28</td><td>10</td><td>10</td></tr><tr><td>&quot;GPU&quot;</td><td>0</td><td>32</td><td>0</td><td>0</td><td>20</td></tr><tr><td>&quot;RAM&quot;</td><td>48</td><td>32</td><td>56</td><td>80</td><td>80</td></tr><tr><td>&quot;SSD&quot;</td><td>12</td><td>16</td><td>14</td><td>10</td><td>0</td></tr><tr><td>&quot;HDD&quot;</td><td>0</td><td>0</td><td>0</td><td>200</td><td>200</td></tr><tr><td>&hellip;</td><td>&hellip;</td><td>&hellip;</td><td>&hellip;</td><td>&hellip;</td><td>&hellip;</td></tr><tr><td>&quot;NIC&quot;</td><td>24</td><td>16</td><td>28</td><td>20</td><td>10</td></tr><tr><td>&quot;PSU&quot;</td><td>12</td><td>16</td><td>14</td><td>10</td><td>10</td></tr><tr><td>&quot;TRAY&quot;</td><td>12</td><td>8</td><td>14</td><td>10</td><td>10</td></tr><tr><td>&quot;TOR&quot;</td><td>1</td><td>2</td><td>1</td><td>1</td><td>1</td></tr><tr><td>&quot;CHASSIS&quot;</td><td>1</td><td>1</td><td>1</td><td>1</td><td>1</td></tr></tbody></table></div>"
      ],
      "text/plain": [
       "shape: (11, 6)\n",
       "┌─────────┬──────────┬──────────┬──────────┬──────────┬──────────┐\n",
       "│ Item    ┆ Server A ┆ Server B ┆ Server C ┆ Server D ┆ Server E │\n",
       "│ ---     ┆ ---      ┆ ---      ┆ ---      ┆ ---      ┆ ---      │\n",
       "│ str     ┆ i64      ┆ i64      ┆ i64      ┆ i64      ┆ i64      │\n",
       "╞═════════╪══════════╪══════════╪══════════╪══════════╪══════════╡\n",
       "│ CPU     ┆ 24       ┆ 16       ┆ 28       ┆ 10       ┆ 10       │\n",
       "│ GPU     ┆ 0        ┆ 32       ┆ 0        ┆ 0        ┆ 20       │\n",
       "│ RAM     ┆ 48       ┆ 32       ┆ 56       ┆ 80       ┆ 80       │\n",
       "│ SSD     ┆ 12       ┆ 16       ┆ 14       ┆ 10       ┆ 0        │\n",
       "│ HDD     ┆ 0        ┆ 0        ┆ 0        ┆ 200      ┆ 200      │\n",
       "│ …       ┆ …        ┆ …        ┆ …        ┆ …        ┆ …        │\n",
       "│ NIC     ┆ 24       ┆ 16       ┆ 28       ┆ 20       ┆ 10       │\n",
       "│ PSU     ┆ 12       ┆ 16       ┆ 14       ┆ 10       ┆ 10       │\n",
       "│ TRAY    ┆ 12       ┆ 8        ┆ 14       ┆ 10       ┆ 10       │\n",
       "│ TOR     ┆ 1        ┆ 2        ┆ 1        ┆ 1        ┆ 1        │\n",
       "│ CHASSIS ┆ 1        ┆ 1        ┆ 1        ┆ 1        ┆ 1        │\n",
       "└─────────┴──────────┴──────────┴──────────┴──────────┴──────────┘"
      ]
     },
     "execution_count": 14,
     "metadata": {},
     "output_type": "execute_result"
    }
   ],
   "source": [
    "rack_quantities = rack_specs.filter(pl.col('Item').is_in(['TOR', 'CHASSIS']))\n",
    "\n",
    "extended_quantities_df = pl.concat([scaled_servers_quantities, rack_quantities], how='vertical')\n",
    "\n",
    "print(\"Table with Extended Quantities Per Component for All Programs\")\n",
    "extended_quantities_df"
   ]
  },
  {
   "cell_type": "markdown",
   "metadata": {},
   "source": [
    "## Part 2: Data Validation Requirements\n",
    "We need to calculate the total cost per program/server per vendor based on the latest received quote. Therefore, we'll first need to filter the `quote_lines.csv` by our data validation requirements given at the beginning which were:\n",
    "- Quotes for a given month can only be accepted starting on the first Monday of the month and ending on the 25th. These boundary dates are inclusive. Any quotes provided outside of these dates will not be considered.\n",
    "- The sum of the quote line details must match the provided quote summary total. If the two datasets do not agree, the quotes will not be considered.\n",
    "- We do not purchase Program C and Program E quotes from Vendor 7. Vendor 7’s systems are configured to quote all available programs, so these quotes need to be discarded.\n",
    "\n"
   ]
  },
  {
   "cell_type": "markdown",
   "metadata": {},
   "source": [
    "### Date Boundaries - First Monday of Month - 25th  \n",
    "Filtering the dates first for both `quote_lines.csv` and `quote_summaries.csv` resulting in:\n",
    "\n",
    "- `filtered_quote_lines`\n",
    "- `filtered_quote_summaries_df` "
   ]
  },
  {
   "cell_type": "code",
   "execution_count": 77,
   "metadata": {},
   "outputs": [
    {
     "data": {
      "text/plain": [
       "(175, 14)"
      ]
     },
     "execution_count": 77,
     "metadata": {},
     "output_type": "execute_result"
    }
   ],
   "source": [
    "# First we want to filter out the quotes for the first Monday - 25th\n",
    "# I am printing the og csv file so you can see the that all days of Sept are included\n",
    "quote_lines_df = pl.read_csv('quote_lines.csv')\n",
    "\n",
    "# Convert 'quote_timestamp' to datetime\n",
    "quote_lines_df = quote_lines_df.with_columns([\n",
    "    pl.col(\"quote_timestamp\").str.to_datetime().alias(\"quote_timestamp\")\n",
    "])\n",
    "\n",
    "quote_lines_df.shape\n"
   ]
  },
  {
   "cell_type": "code",
   "execution_count": 137,
   "metadata": {},
   "outputs": [
    {
     "data": {
      "text/html": [
       "<div><style>\n",
       ".dataframe > thead > tr,\n",
       ".dataframe > tbody > tr {\n",
       "  text-align: right;\n",
       "  white-space: pre-wrap;\n",
       "}\n",
       "</style>\n",
       "<small>shape: (167, 14)</small><table border=\"1\" class=\"dataframe\"><thead><tr><th>Vendor</th><th>Program</th><th>quote_timestamp</th><th>CPU</th><th>GPU</th><th>RAM</th><th>SSD</th><th>HDD</th><th>MOBO</th><th>NIC</th><th>PSU</th><th>TRAY</th><th>TOR</th><th>CHASSIS</th></tr><tr><td>str</td><td>str</td><td>datetime[μs]</td><td>f64</td><td>f64</td><td>f64</td><td>f64</td><td>f64</td><td>f64</td><td>f64</td><td>f64</td><td>f64</td><td>f64</td><td>f64</td></tr></thead><tbody><tr><td>&quot;Vendor_7&quot;</td><td>&quot;Program_D&quot;</td><td>2024-09-25 03:52:19.637095</td><td>305.84</td><td>409.06</td><td>53.43</td><td>196.14</td><td>103.49</td><td>107.72</td><td>20.98</td><td>94.19</td><td>11.57</td><td>746.67</td><td>1015.84</td></tr><tr><td>&quot;Vendor_6&quot;</td><td>&quot;Program_E&quot;</td><td>2024-09-12 00:26:22.414219</td><td>324.21</td><td>446.35</td><td>44.91</td><td>194.27</td><td>184.53</td><td>100.12</td><td>28.8</td><td>89.99</td><td>70.05</td><td>728.08</td><td>1068.57</td></tr><tr><td>&quot;Vendor_5&quot;</td><td>&quot;Program_A&quot;</td><td>2024-09-23 18:35:08.078890</td><td>300.29</td><td>414.38</td><td>48.73</td><td>187.55</td><td>105.42</td><td>103.5</td><td>21.64</td><td>102.29</td><td>22.98</td><td>734.33</td><td>1770.98</td></tr><tr><td>&quot;Vendor_5&quot;</td><td>&quot;Program_B&quot;</td><td>2024-09-24 11:33:41.034306</td><td>333.53</td><td>445.41</td><td>48.16</td><td>193.25</td><td>104.02</td><td>90.87</td><td>23.0</td><td>113.9</td><td>80.13</td><td>616.13</td><td>1563.11</td></tr><tr><td>&quot;Vendor_7&quot;</td><td>&quot;Program_C&quot;</td><td>2024-09-15 13:20:11.557807</td><td>324.79</td><td>458.29</td><td>48.68</td><td>180.91</td><td>193.3</td><td>114.81</td><td>25.95</td><td>86.8</td><td>76.02</td><td>629.8</td><td>1437.87</td></tr><tr><td>&hellip;</td><td>&hellip;</td><td>&hellip;</td><td>&hellip;</td><td>&hellip;</td><td>&hellip;</td><td>&hellip;</td><td>&hellip;</td><td>&hellip;</td><td>&hellip;</td><td>&hellip;</td><td>&hellip;</td><td>&hellip;</td><td>&hellip;</td></tr><tr><td>&quot;Vendor_7&quot;</td><td>&quot;Program_E&quot;</td><td>2024-09-02 19:59:44.793380</td><td>318.99</td><td>447.29</td><td>48.28</td><td>190.64</td><td>152.61</td><td>80.35</td><td>23.62</td><td>98.91</td><td>78.02</td><td>719.53</td><td>1614.46</td></tr><tr><td>&quot;Vendor_7&quot;</td><td>&quot;Program_C&quot;</td><td>2024-09-10 20:59:39.959689</td><td>345.09</td><td>477.63</td><td>49.35</td><td>189.19</td><td>124.61</td><td>86.75</td><td>28.77</td><td>112.67</td><td>23.06</td><td>727.32</td><td>1646.63</td></tr><tr><td>&quot;Vendor_4&quot;</td><td>&quot;Program_E&quot;</td><td>2024-09-11 17:20:46.390587</td><td>313.77</td><td>476.99</td><td>46.76</td><td>191.12</td><td>122.7</td><td>81.18</td><td>28.76</td><td>115.58</td><td>27.46</td><td>711.28</td><td>1094.2</td></tr><tr><td>&quot;Vendor_4&quot;</td><td>&quot;Program_D&quot;</td><td>2024-09-18 01:40:39.987961</td><td>310.68</td><td>457.19</td><td>49.46</td><td>199.81</td><td>134.83</td><td>106.66</td><td>24.49</td><td>81.97</td><td>97.49</td><td>607.15</td><td>1170.61</td></tr><tr><td>&quot;Vendor_6&quot;</td><td>&quot;Program_E&quot;</td><td>2024-09-12 23:45:09.765369</td><td>339.08</td><td>429.01</td><td>44.33</td><td>180.53</td><td>131.31</td><td>101.6</td><td>26.44</td><td>86.62</td><td>11.57</td><td>611.23</td><td>1677.63</td></tr></tbody></table></div>"
      ],
      "text/plain": [
       "shape: (167, 14)\n",
       "┌──────────┬───────────┬─────────────────┬────────┬───┬────────┬───────┬────────┬─────────┐\n",
       "│ Vendor   ┆ Program   ┆ quote_timestamp ┆ CPU    ┆ … ┆ PSU    ┆ TRAY  ┆ TOR    ┆ CHASSIS │\n",
       "│ ---      ┆ ---       ┆ ---             ┆ ---    ┆   ┆ ---    ┆ ---   ┆ ---    ┆ ---     │\n",
       "│ str      ┆ str       ┆ datetime[μs]    ┆ f64    ┆   ┆ f64    ┆ f64   ┆ f64    ┆ f64     │\n",
       "╞══════════╪═══════════╪═════════════════╪════════╪═══╪════════╪═══════╪════════╪═════════╡\n",
       "│ Vendor_7 ┆ Program_D ┆ 2024-09-25      ┆ 305.84 ┆ … ┆ 94.19  ┆ 11.57 ┆ 746.67 ┆ 1015.84 │\n",
       "│          ┆           ┆ 03:52:19.637095 ┆        ┆   ┆        ┆       ┆        ┆         │\n",
       "│ Vendor_6 ┆ Program_E ┆ 2024-09-12      ┆ 324.21 ┆ … ┆ 89.99  ┆ 70.05 ┆ 728.08 ┆ 1068.57 │\n",
       "│          ┆           ┆ 00:26:22.414219 ┆        ┆   ┆        ┆       ┆        ┆         │\n",
       "│ Vendor_5 ┆ Program_A ┆ 2024-09-23      ┆ 300.29 ┆ … ┆ 102.29 ┆ 22.98 ┆ 734.33 ┆ 1770.98 │\n",
       "│          ┆           ┆ 18:35:08.078890 ┆        ┆   ┆        ┆       ┆        ┆         │\n",
       "│ Vendor_5 ┆ Program_B ┆ 2024-09-24      ┆ 333.53 ┆ … ┆ 113.9  ┆ 80.13 ┆ 616.13 ┆ 1563.11 │\n",
       "│          ┆           ┆ 11:33:41.034306 ┆        ┆   ┆        ┆       ┆        ┆         │\n",
       "│ Vendor_7 ┆ Program_C ┆ 2024-09-15      ┆ 324.79 ┆ … ┆ 86.8   ┆ 76.02 ┆ 629.8  ┆ 1437.87 │\n",
       "│          ┆           ┆ 13:20:11.557807 ┆        ┆   ┆        ┆       ┆        ┆         │\n",
       "│ …        ┆ …         ┆ …               ┆ …      ┆ … ┆ …      ┆ …     ┆ …      ┆ …       │\n",
       "│ Vendor_7 ┆ Program_E ┆ 2024-09-02      ┆ 318.99 ┆ … ┆ 98.91  ┆ 78.02 ┆ 719.53 ┆ 1614.46 │\n",
       "│          ┆           ┆ 19:59:44.793380 ┆        ┆   ┆        ┆       ┆        ┆         │\n",
       "│ Vendor_7 ┆ Program_C ┆ 2024-09-10      ┆ 345.09 ┆ … ┆ 112.67 ┆ 23.06 ┆ 727.32 ┆ 1646.63 │\n",
       "│          ┆           ┆ 20:59:39.959689 ┆        ┆   ┆        ┆       ┆        ┆         │\n",
       "│ Vendor_4 ┆ Program_E ┆ 2024-09-11      ┆ 313.77 ┆ … ┆ 115.58 ┆ 27.46 ┆ 711.28 ┆ 1094.2  │\n",
       "│          ┆           ┆ 17:20:46.390587 ┆        ┆   ┆        ┆       ┆        ┆         │\n",
       "│ Vendor_4 ┆ Program_D ┆ 2024-09-18      ┆ 310.68 ┆ … ┆ 81.97  ┆ 97.49 ┆ 607.15 ┆ 1170.61 │\n",
       "│          ┆           ┆ 01:40:39.987961 ┆        ┆   ┆        ┆       ┆        ┆         │\n",
       "│ Vendor_6 ┆ Program_E ┆ 2024-09-12      ┆ 339.08 ┆ … ┆ 86.62  ┆ 11.57 ┆ 611.23 ┆ 1677.63 │\n",
       "│          ┆           ┆ 23:45:09.765369 ┆        ┆   ┆        ┆       ┆        ┆         │\n",
       "└──────────┴───────────┴─────────────────┴────────┴───┴────────┴───────┴────────┴─────────┘"
      ]
     },
     "execution_count": 137,
     "metadata": {},
     "output_type": "execute_result"
    }
   ],
   "source": [
    "# We only have September 1, 2024 - September 30, 2024 in our data\n",
    "# I have made it sort of dynamic if we were to add more months\n",
    "\n",
    "def get_first_monday(d: datetime.date) -> datetime.date:\n",
    "    first_day = d.replace(day=1)\n",
    "    days_to_monday = (7 - first_day.weekday()) % 7\n",
    "    return first_day + datetime.timedelta(days=days_to_monday)\n",
    "\n",
    "# Dynamically calculate the first Monday for reference date which I set as September 2024\n",
    "reference_date = datetime.date(2024, 9, 1)\n",
    "first_monday = get_first_monday(reference_date)\n",
    "\n",
    "# Set the end date dynamically as the 25th of the same month\n",
    "end_date = reference_date.replace(day=26)\n",
    "\n",
    "# Filter the DataFrame based on the dynamic date range (first Monday to the 25th of the month)\n",
    "filtered_quote_lines = quote_lines_df.filter(\n",
    "    (pl.col(\"quote_timestamp\") >= pl.lit(first_monday)) &\n",
    "    (pl.col(\"quote_timestamp\") <= pl.lit(end_date))\n",
    ")\n",
    "filtered_quote_lines\n"
   ]
  },
  {
   "cell_type": "code",
   "execution_count": null,
   "metadata": {},
   "outputs": [
    {
     "name": "stdout",
     "output_type": "stream",
     "text": [
      "The first monday on the month is: 2024-09-02\n",
      "Filtered Quote Lines based on Dates and Program Exclusion:\n"
     ]
    },
    {
     "data": {
      "text/html": [
       "<div><style>\n",
       ".dataframe > thead > tr,\n",
       ".dataframe > tbody > tr {\n",
       "  text-align: right;\n",
       "  white-space: pre-wrap;\n",
       "}\n",
       "</style>\n",
       "<small>shape: (155, 14)</small><table border=\"1\" class=\"dataframe\"><thead><tr><th>Vendor</th><th>Program</th><th>quote_timestamp</th><th>CPU</th><th>GPU</th><th>RAM</th><th>SSD</th><th>HDD</th><th>MOBO</th><th>NIC</th><th>PSU</th><th>TRAY</th><th>TOR</th><th>CHASSIS</th></tr><tr><td>str</td><td>str</td><td>datetime[μs]</td><td>f64</td><td>f64</td><td>f64</td><td>f64</td><td>f64</td><td>f64</td><td>f64</td><td>f64</td><td>f64</td><td>f64</td><td>f64</td></tr></thead><tbody><tr><td>&quot;Vendor_7&quot;</td><td>&quot;Program_D&quot;</td><td>2024-09-25 03:52:19.637095</td><td>305.84</td><td>409.06</td><td>53.43</td><td>196.14</td><td>103.49</td><td>107.72</td><td>20.98</td><td>94.19</td><td>11.57</td><td>746.67</td><td>1015.84</td></tr><tr><td>&quot;Vendor_6&quot;</td><td>&quot;Program_E&quot;</td><td>2024-09-12 00:26:22.414219</td><td>324.21</td><td>446.35</td><td>44.91</td><td>194.27</td><td>184.53</td><td>100.12</td><td>28.8</td><td>89.99</td><td>70.05</td><td>728.08</td><td>1068.57</td></tr><tr><td>&quot;Vendor_5&quot;</td><td>&quot;Program_A&quot;</td><td>2024-09-23 18:35:08.078890</td><td>300.29</td><td>414.38</td><td>48.73</td><td>187.55</td><td>105.42</td><td>103.5</td><td>21.64</td><td>102.29</td><td>22.98</td><td>734.33</td><td>1770.98</td></tr><tr><td>&quot;Vendor_5&quot;</td><td>&quot;Program_B&quot;</td><td>2024-09-24 11:33:41.034306</td><td>333.53</td><td>445.41</td><td>48.16</td><td>193.25</td><td>104.02</td><td>90.87</td><td>23.0</td><td>113.9</td><td>80.13</td><td>616.13</td><td>1563.11</td></tr><tr><td>&quot;Vendor_3&quot;</td><td>&quot;Program_A&quot;</td><td>2024-09-17 18:56:17.120014</td><td>338.88</td><td>441.63</td><td>51.69</td><td>198.78</td><td>110.31</td><td>113.62</td><td>23.77</td><td>112.67</td><td>32.99</td><td>547.85</td><td>1108.16</td></tr><tr><td>&hellip;</td><td>&hellip;</td><td>&hellip;</td><td>&hellip;</td><td>&hellip;</td><td>&hellip;</td><td>&hellip;</td><td>&hellip;</td><td>&hellip;</td><td>&hellip;</td><td>&hellip;</td><td>&hellip;</td><td>&hellip;</td><td>&hellip;</td></tr><tr><td>&quot;Vendor_5&quot;</td><td>&quot;Program_A&quot;</td><td>2024-09-05 03:11:32.722222</td><td>330.5</td><td>468.04</td><td>47.79</td><td>190.65</td><td>110.16</td><td>91.25</td><td>25.52</td><td>94.26</td><td>38.55</td><td>684.71</td><td>1268.8</td></tr><tr><td>&quot;Vendor_4&quot;</td><td>&quot;Program_C&quot;</td><td>2024-09-08 16:45:01.071635</td><td>338.68</td><td>466.55</td><td>50.5</td><td>190.87</td><td>142.77</td><td>102.34</td><td>29.21</td><td>116.78</td><td>93.16</td><td>617.82</td><td>1820.72</td></tr><tr><td>&quot;Vendor_4&quot;</td><td>&quot;Program_E&quot;</td><td>2024-09-11 17:20:46.390587</td><td>313.77</td><td>476.99</td><td>46.76</td><td>191.12</td><td>122.7</td><td>81.18</td><td>28.76</td><td>115.58</td><td>27.46</td><td>711.28</td><td>1094.2</td></tr><tr><td>&quot;Vendor_4&quot;</td><td>&quot;Program_D&quot;</td><td>2024-09-18 01:40:39.987961</td><td>310.68</td><td>457.19</td><td>49.46</td><td>199.81</td><td>134.83</td><td>106.66</td><td>24.49</td><td>81.97</td><td>97.49</td><td>607.15</td><td>1170.61</td></tr><tr><td>&quot;Vendor_6&quot;</td><td>&quot;Program_E&quot;</td><td>2024-09-12 23:45:09.765369</td><td>339.08</td><td>429.01</td><td>44.33</td><td>180.53</td><td>131.31</td><td>101.6</td><td>26.44</td><td>86.62</td><td>11.57</td><td>611.23</td><td>1677.63</td></tr></tbody></table></div>"
      ],
      "text/plain": [
       "shape: (155, 14)\n",
       "┌──────────┬───────────┬─────────────────┬────────┬───┬────────┬───────┬────────┬─────────┐\n",
       "│ Vendor   ┆ Program   ┆ quote_timestamp ┆ CPU    ┆ … ┆ PSU    ┆ TRAY  ┆ TOR    ┆ CHASSIS │\n",
       "│ ---      ┆ ---       ┆ ---             ┆ ---    ┆   ┆ ---    ┆ ---   ┆ ---    ┆ ---     │\n",
       "│ str      ┆ str       ┆ datetime[μs]    ┆ f64    ┆   ┆ f64    ┆ f64   ┆ f64    ┆ f64     │\n",
       "╞══════════╪═══════════╪═════════════════╪════════╪═══╪════════╪═══════╪════════╪═════════╡\n",
       "│ Vendor_7 ┆ Program_D ┆ 2024-09-25      ┆ 305.84 ┆ … ┆ 94.19  ┆ 11.57 ┆ 746.67 ┆ 1015.84 │\n",
       "│          ┆           ┆ 03:52:19.637095 ┆        ┆   ┆        ┆       ┆        ┆         │\n",
       "│ Vendor_6 ┆ Program_E ┆ 2024-09-12      ┆ 324.21 ┆ … ┆ 89.99  ┆ 70.05 ┆ 728.08 ┆ 1068.57 │\n",
       "│          ┆           ┆ 00:26:22.414219 ┆        ┆   ┆        ┆       ┆        ┆         │\n",
       "│ Vendor_5 ┆ Program_A ┆ 2024-09-23      ┆ 300.29 ┆ … ┆ 102.29 ┆ 22.98 ┆ 734.33 ┆ 1770.98 │\n",
       "│          ┆           ┆ 18:35:08.078890 ┆        ┆   ┆        ┆       ┆        ┆         │\n",
       "│ Vendor_5 ┆ Program_B ┆ 2024-09-24      ┆ 333.53 ┆ … ┆ 113.9  ┆ 80.13 ┆ 616.13 ┆ 1563.11 │\n",
       "│          ┆           ┆ 11:33:41.034306 ┆        ┆   ┆        ┆       ┆        ┆         │\n",
       "│ Vendor_3 ┆ Program_A ┆ 2024-09-17      ┆ 338.88 ┆ … ┆ 112.67 ┆ 32.99 ┆ 547.85 ┆ 1108.16 │\n",
       "│          ┆           ┆ 18:56:17.120014 ┆        ┆   ┆        ┆       ┆        ┆         │\n",
       "│ …        ┆ …         ┆ …               ┆ …      ┆ … ┆ …      ┆ …     ┆ …      ┆ …       │\n",
       "│ Vendor_5 ┆ Program_A ┆ 2024-09-05      ┆ 330.5  ┆ … ┆ 94.26  ┆ 38.55 ┆ 684.71 ┆ 1268.8  │\n",
       "│          ┆           ┆ 03:11:32.722222 ┆        ┆   ┆        ┆       ┆        ┆         │\n",
       "│ Vendor_4 ┆ Program_C ┆ 2024-09-08      ┆ 338.68 ┆ … ┆ 116.78 ┆ 93.16 ┆ 617.82 ┆ 1820.72 │\n",
       "│          ┆           ┆ 16:45:01.071635 ┆        ┆   ┆        ┆       ┆        ┆         │\n",
       "│ Vendor_4 ┆ Program_E ┆ 2024-09-11      ┆ 313.77 ┆ … ┆ 115.58 ┆ 27.46 ┆ 711.28 ┆ 1094.2  │\n",
       "│          ┆           ┆ 17:20:46.390587 ┆        ┆   ┆        ┆       ┆        ┆         │\n",
       "│ Vendor_4 ┆ Program_D ┆ 2024-09-18      ┆ 310.68 ┆ … ┆ 81.97  ┆ 97.49 ┆ 607.15 ┆ 1170.61 │\n",
       "│          ┆           ┆ 01:40:39.987961 ┆        ┆   ┆        ┆       ┆        ┆         │\n",
       "│ Vendor_6 ┆ Program_E ┆ 2024-09-12      ┆ 339.08 ┆ … ┆ 86.62  ┆ 11.57 ┆ 611.23 ┆ 1677.63 │\n",
       "│          ┆           ┆ 23:45:09.765369 ┆        ┆   ┆        ┆       ┆        ┆         │\n",
       "└──────────┴───────────┴─────────────────┴────────┴───┴────────┴───────┴────────┴─────────┘"
      ]
     },
     "execution_count": 138,
     "metadata": {},
     "output_type": "execute_result"
    }
   ],
   "source": [
    "filtered_quote_lines = filtered_quote_lines.filter(\n",
    "    ~((pl.col(\"Vendor\") == \"Vendor_7\") & (pl.col(\"Program\").is_in([\"Program_C\", \"Program_E\"])))\n",
    ")\n",
    "\n",
    "# Output the results\n",
    "print(\"The first monday on the month is:\", first_monday)\n",
    "print(\"Filtered Quote Lines based on Dates and Program Exclusion:\")\n",
    "filtered_quote_lines"
   ]
  },
  {
   "cell_type": "markdown",
   "metadata": {},
   "source": [
    "### Calculuate Server Rack Quantites "
   ]
  },
  {
   "cell_type": "code",
   "execution_count": 140,
   "metadata": {},
   "outputs": [
    {
     "name": "stdout",
     "output_type": "stream",
     "text": [
      "shape: (155, 15)\n",
      "┌──────────┬───────────┬──────────────────┬─────────┬───┬─────────┬─────────┬─────────┬────────────┐\n",
      "│ Vendor   ┆ Program   ┆ quote_timestamp  ┆ CPU     ┆ … ┆ TRAY    ┆ TOR     ┆ CHASSIS ┆ total_cost │\n",
      "│ ---      ┆ ---       ┆ ---              ┆ ---     ┆   ┆ ---     ┆ ---     ┆ ---     ┆ ---        │\n",
      "│ str      ┆ str       ┆ datetime[μs]     ┆ f64     ┆   ┆ f64     ┆ f64     ┆ f64     ┆ f64        │\n",
      "╞══════════╪═══════════╪══════════════════╪═════════╪═══╪═════════╪═════════╪═════════╪════════════╡\n",
      "│ Vendor_7 ┆ Program_D ┆ 2024-09-25       ┆ 3058.4  ┆ … ┆ 115.7   ┆ 746.67  ┆ 1015.84 ┆ 34309.11   │\n",
      "│          ┆           ┆ 03:52:19.637095  ┆         ┆   ┆         ┆         ┆         ┆            │\n",
      "│ Vendor_6 ┆ Program_E ┆ 2024-09-12       ┆ 3242.1  ┆ … ┆ 700.5   ┆ 728.08  ┆ 1068.57 ┆ 57354.15   │\n",
      "│          ┆           ┆ 00:26:22.414219  ┆         ┆   ┆         ┆         ┆         ┆            │\n",
      "│ Vendor_5 ┆ Program_A ┆ 2024-09-23       ┆ 7206.96 ┆ … ┆ 275.76  ┆ 734.33  ┆ 1770.98 ┆ 17566.51   │\n",
      "│          ┆           ┆ 18:35:08.078890  ┆         ┆   ┆         ┆         ┆         ┆            │\n",
      "│ Vendor_5 ┆ Program_B ┆ 2024-09-24       ┆ 5336.48 ┆ … ┆ 641.04  ┆ 1232.26 ┆ 1563.11 ┆ 30576.49   │\n",
      "│          ┆           ┆ 11:33:41.034306  ┆         ┆   ┆         ┆         ┆         ┆            │\n",
      "│ Vendor_3 ┆ Program_A ┆ 2024-09-17       ┆ 8133.12 ┆ … ┆ 395.88  ┆ 547.85  ┆ 1108.16 ┆ 18337.45   │\n",
      "│          ┆           ┆ 18:56:17.120014  ┆         ┆   ┆         ┆         ┆         ┆            │\n",
      "│ …        ┆ …         ┆ …                ┆ …       ┆ … ┆ …       ┆ …       ┆ …       ┆ …          │\n",
      "│ Vendor_5 ┆ Program_A ┆ 2024-09-05       ┆ 7932.0  ┆ … ┆ 462.6   ┆ 684.71  ┆ 1268.8  ┆ 17768.43   │\n",
      "│          ┆           ┆ 03:11:32.722222  ┆         ┆   ┆         ┆         ┆         ┆            │\n",
      "│ Vendor_4 ┆ Program_C ┆ 2024-09-08       ┆ 9483.04 ┆ … ┆ 1304.24 ┆ 617.82  ┆ 1820.72 ┆ 22611.56   │\n",
      "│          ┆           ┆ 16:45:01.071635  ┆         ┆   ┆         ┆         ┆         ┆            │\n",
      "│ Vendor_4 ┆ Program_E ┆ 2024-09-11       ┆ 3137.7  ┆ … ┆ 274.6   ┆ 711.28  ┆ 1094.2  ┆ 45293.58   │\n",
      "│          ┆           ┆ 17:20:46.390587  ┆         ┆   ┆         ┆         ┆         ┆            │\n",
      "│ Vendor_4 ┆ Program_D ┆ 2024-09-18       ┆ 3106.8  ┆ … ┆ 974.9   ┆ 607.15  ┆ 1170.61 ┆ 41156.46   │\n",
      "│          ┆           ┆ 01:40:39.987961  ┆         ┆   ┆         ┆         ┆         ┆            │\n",
      "│ Vendor_6 ┆ Program_E ┆ 2024-09-12       ┆ 3390.8  ┆ … ┆ 115.7   ┆ 611.23  ┆ 1677.63 ┆ 46330.56   │\n",
      "│          ┆           ┆ 23:45:09.765369  ┆         ┆   ┆         ┆         ┆         ┆            │\n",
      "└──────────┴───────────┴──────────────────┴─────────┴───┴─────────┴─────────┴─────────┴────────────┘\n"
     ]
    }
   ],
   "source": [
    "# Create a mapping between Program and Server columns\n",
    "program_to_server = {\n",
    "    \"Program_A\": \"Server A\",\n",
    "    \"Program_B\": \"Server B\",\n",
    "    \"Program_C\": \"Server C\",\n",
    "    \"Program_D\": \"Server D\",\n",
    "    \"Program_E\": \"Server E\"\n",
    "}\n",
    "\n",
    "# List of component columns to scale (CPU - CHASSIS)\n",
    "components = [\"CPU\", \"GPU\", \"RAM\", \"SSD\", \"HDD\", \"MOBO\", \"NIC\", \"PSU\", \"TRAY\", \"TOR\", \"CHASSIS\"]\n",
    "\n",
    "# Function to scale components by quantities based on the program\n",
    "def scale_components(df, extended_quantities_df):\n",
    "    # For each program, get the corresponding server and scale the components\n",
    "    for program, server in program_to_server.items():\n",
    "        # Get the rows corresponding to the program\n",
    "        program_mask = df[\"Program\"] == program\n",
    "        \n",
    "        # Scale each component based on the quantities in the extended_quantities_df\n",
    "        for component in components:\n",
    "            quantity_col = extended_quantities_df.filter(pl.col(\"Item\") == component)[server].item()\n",
    "            df = df.with_columns([\n",
    "                pl.when(program_mask).then(pl.col(component) * quantity_col).otherwise(pl.col(component)).alias(component)\n",
    "            ])\n",
    "    \n",
    "    return df\n",
    "\n",
    "# Scale the filtered_quote_lines components by the quantities from the extended_quantities_df\n",
    "scaled_quote_lines = scale_components(filtered_quote_lines, extended_quantities_df)\n",
    "\n",
    "# Create a new column 'total_cost' by summing all component costs for each row\n",
    "scaled_quote_lines = scaled_quote_lines.with_columns([\n",
    "    sum([pl.col(component) for component in components]).alias(\"total_cost\")\n",
    "])\n",
    "\n",
    "# Output the final DataFrame with the total cost\n",
    "print(scaled_quote_lines)\n"
   ]
  },
  {
   "cell_type": "markdown",
   "metadata": {},
   "source": [
    "### Filter Out Program C & E From Vendor 7"
   ]
  },
  {
   "cell_type": "code",
   "execution_count": null,
   "metadata": {},
   "outputs": [],
   "source": [
    "# Also dropping the out of bound dates for quote_summaries.csv\n",
    "\n",
    "quote_summaries_df = pl.read_csv('quote_summaries.csv')\n",
    "\n",
    "# Convert 'quote_timestamp' to datetime\n",
    "quote_summaries_df = quote_summaries_df.with_columns([\n",
    "    pl.col(\"quote_timestamp\").str.to_datetime().alias(\"quote_timestamp\")\n",
    "])\n",
    "\n",
    "filtered_quote_summaries_df = quote_summaries_df.filter(\n",
    "    (pl.col(\"quote_timestamp\") >= pl.lit(first_monday)) &\n",
    "    (pl.col(\"quote_timestamp\") <= pl.lit(end_date))\n",
    ")\n",
    "\n",
    "filtered_quote_summaries_df = filtered_quote_summaries_df.filter(\n",
    "    ~((pl.col(\"vendor\") == \"Vendor_7\") & (pl.col(\"program\").is_in([\"C\", \"E\"])))\n",
    ")\n",
    "\n",
    "filtered_quote_summaries_df"
   ]
  },
  {
   "cell_type": "markdown",
   "metadata": {},
   "source": [
    "### Comparing Outputs to Ensure Quote Line and Quote Summary totals match\n",
    "Merged `scaled_quote_lines` and `filtered_quote_summaries_df` and compared the summary total and itemized total"
   ]
  },
  {
   "cell_type": "code",
   "execution_count": 141,
   "metadata": {},
   "outputs": [
    {
     "data": {
      "text/plain": [
       "(155, 5)"
      ]
     },
     "execution_count": 141,
     "metadata": {},
     "output_type": "execute_result"
    }
   ],
   "source": [
    "# Define the mapping function to convert single letters to \"Program_\" format\n",
    "def relabel_program(program):\n",
    "    program_mapping = {\n",
    "        \"A\": \"Program_A\",\n",
    "        \"B\": \"Program_B\",\n",
    "        \"C\": \"Program_C\",\n",
    "        \"D\": \"Program_D\",\n",
    "        \"E\": \"Program_E\"\n",
    "    }\n",
    "    return program_mapping.get(program, program)  # If not found, return the original value\n",
    "\n",
    "# Apply the relabeling to the 'program' column using map_elements with return_dtype specified\n",
    "filtered_quote_summaries_df = filtered_quote_summaries_df.with_columns(\n",
    "    pl.col(\"program\").map_elements(relabel_program, return_dtype=pl.Utf8).alias(\"program\")\n",
    ")\n",
    "\n",
    "# Now perform the join operation between filtered_quote_summaries_df and scaled_quote_lines\n",
    "merged_df = filtered_quote_summaries_df.join(\n",
    "    scaled_quote_lines.select([\"Vendor\", \"Program\", \"quote_timestamp\", \"total_cost\"]),\n",
    "    left_on=[\"vendor\", \"program\", \"quote_timestamp\"],  # 'program' in filtered_quote_summaries_df\n",
    "    right_on=[\"Vendor\", \"Program\", \"quote_timestamp\"],  # 'Program' in scaled_quote_lines\n",
    "    how=\"inner\"  # Perform an inner join\n",
    ")\n",
    "\n",
    "merged_df.shape"
   ]
  },
  {
   "cell_type": "markdown",
   "metadata": {},
   "source": [
    "### Printing Mismatched data"
   ]
  },
  {
   "cell_type": "code",
   "execution_count": 142,
   "metadata": {},
   "outputs": [
    {
     "name": "stdout",
     "output_type": "stream",
     "text": [
      "\n",
      "Discrepancies found between reported_total_price and total_cost:\n",
      "shape: (12, 5)\n",
      "┌──────────┬───────────┬────────────────────────────┬──────────────────────┬────────────┐\n",
      "│ vendor   ┆ program   ┆ quote_timestamp            ┆ reported_total_price ┆ total_cost │\n",
      "│ ---      ┆ ---       ┆ ---                        ┆ ---                  ┆ ---        │\n",
      "│ str      ┆ str       ┆ datetime[μs]               ┆ f64                  ┆ f64        │\n",
      "╞══════════╪═══════════╪════════════════════════════╪══════════════════════╪════════════╡\n",
      "│ Vendor_5 ┆ Program_B ┆ 2024-09-24 11:33:41.034306 ┆ 31493.78             ┆ 30576.49   │\n",
      "│ Vendor_1 ┆ Program_A ┆ 2024-09-20 17:15:49.069230 ┆ 19332.6              ┆ 18769.51   │\n",
      "│ Vendor_6 ┆ Program_E ┆ 2024-09-05 02:24:06.963283 ┆ 54307.11             ┆ 52725.35   │\n",
      "│ Vendor_1 ┆ Program_E ┆ 2024-09-24 10:23:03.302944 ┆ 54118.35             ┆ 52542.09   │\n",
      "│ Vendor_5 ┆ Program_A ┆ 2024-09-10 15:42:36.421205 ┆ 17677.62             ┆ 17162.74   │\n",
      "│ …        ┆ …         ┆ …                          ┆ …                    ┆ …          │\n",
      "│ Vendor_6 ┆ Program_A ┆ 2024-09-06 01:08:17.028693 ┆ 18422.69             ┆ 17886.11   │\n",
      "│ Vendor_3 ┆ Program_D ┆ 2024-09-10 21:59:16.732019 ┆ 37207.77             ┆ 36124.05   │\n",
      "│ Vendor_5 ┆ Program_D ┆ 2024-09-14 08:36:16.015337 ┆ 39149.38             ┆ 38009.11   │\n",
      "│ Vendor_6 ┆ Program_C ┆ 2024-09-04 16:57:51.687340 ┆ 21650.91             ┆ 21020.3    │\n",
      "│ Vendor_7 ┆ Program_B ┆ 2024-09-10 09:12:32.653720 ┆ 31745.94             ┆ 30821.3    │\n",
      "└──────────┴───────────┴────────────────────────────┴──────────────────────┴────────────┘\n"
     ]
    }
   ],
   "source": [
    "# Define a small epsilon value for floating-point comparison tolerance\n",
    "epsilon = 1e-6  # You can adjust this value as needed based on the precision in your data\n",
    "\n",
    "# Step 1: Compare 'reported_total_price' with 'total_cost' using a tolerance\n",
    "mismatches_df = merged_df.filter(\n",
    "    (pl.col(\"reported_total_price\") - pl.col(\"total_cost\")).abs() > epsilon\n",
    ")\n",
    "\n",
    "# Step 2: Output mismatches if they exist\n",
    "if mismatches_df.height > 0:\n",
    "    print(\"\\nDiscrepancies found between reported_total_price and total_cost:\")\n",
    "    print(mismatches_df)\n",
    "else:\n",
    "    print(\"\\nAll values match between reported_total_price and total_cost within the tolerance.\")\n"
   ]
  },
  {
   "cell_type": "markdown",
   "metadata": {},
   "source": [
    "### Merged Dataframe That Complies with Data Validation Requirements  "
   ]
  },
  {
   "cell_type": "code",
   "execution_count": 143,
   "metadata": {},
   "outputs": [
    {
     "name": "stdout",
     "output_type": "stream",
     "text": [
      "\n",
      "Validated Merged DataFrame (with matching total costs):\n"
     ]
    },
    {
     "data": {
      "text/html": [
       "<div><style>\n",
       ".dataframe > thead > tr,\n",
       ".dataframe > tbody > tr {\n",
       "  text-align: right;\n",
       "  white-space: pre-wrap;\n",
       "}\n",
       "</style>\n",
       "<small>shape: (143, 5)</small><table border=\"1\" class=\"dataframe\"><thead><tr><th>vendor</th><th>program</th><th>quote_timestamp</th><th>reported_total_price</th><th>total_cost</th></tr><tr><td>str</td><td>str</td><td>datetime[μs]</td><td>f64</td><td>f64</td></tr></thead><tbody><tr><td>&quot;Vendor_7&quot;</td><td>&quot;Program_D&quot;</td><td>2024-09-25 03:52:19.637095</td><td>34309.11</td><td>34309.11</td></tr><tr><td>&quot;Vendor_6&quot;</td><td>&quot;Program_E&quot;</td><td>2024-09-12 00:26:22.414219</td><td>57354.15</td><td>57354.15</td></tr><tr><td>&quot;Vendor_5&quot;</td><td>&quot;Program_A&quot;</td><td>2024-09-23 18:35:08.078890</td><td>17566.51</td><td>17566.51</td></tr><tr><td>&quot;Vendor_3&quot;</td><td>&quot;Program_A&quot;</td><td>2024-09-17 18:56:17.120014</td><td>18337.45</td><td>18337.45</td></tr><tr><td>&quot;Vendor_6&quot;</td><td>&quot;Program_B&quot;</td><td>2024-09-03 02:21:46.569968</td><td>32021.13</td><td>32021.13</td></tr><tr><td>&hellip;</td><td>&hellip;</td><td>&hellip;</td><td>&hellip;</td><td>&hellip;</td></tr><tr><td>&quot;Vendor_5&quot;</td><td>&quot;Program_A&quot;</td><td>2024-09-05 03:11:32.722222</td><td>17768.43</td><td>17768.43</td></tr><tr><td>&quot;Vendor_4&quot;</td><td>&quot;Program_C&quot;</td><td>2024-09-08 16:45:01.071635</td><td>22611.56</td><td>22611.56</td></tr><tr><td>&quot;Vendor_4&quot;</td><td>&quot;Program_E&quot;</td><td>2024-09-11 17:20:46.390587</td><td>45293.58</td><td>45293.58</td></tr><tr><td>&quot;Vendor_4&quot;</td><td>&quot;Program_D&quot;</td><td>2024-09-18 01:40:39.987961</td><td>41156.46</td><td>41156.46</td></tr><tr><td>&quot;Vendor_6&quot;</td><td>&quot;Program_E&quot;</td><td>2024-09-12 23:45:09.765369</td><td>46330.56</td><td>46330.56</td></tr></tbody></table></div>"
      ],
      "text/plain": [
       "shape: (143, 5)\n",
       "┌──────────┬───────────┬────────────────────────────┬──────────────────────┬────────────┐\n",
       "│ vendor   ┆ program   ┆ quote_timestamp            ┆ reported_total_price ┆ total_cost │\n",
       "│ ---      ┆ ---       ┆ ---                        ┆ ---                  ┆ ---        │\n",
       "│ str      ┆ str       ┆ datetime[μs]               ┆ f64                  ┆ f64        │\n",
       "╞══════════╪═══════════╪════════════════════════════╪══════════════════════╪════════════╡\n",
       "│ Vendor_7 ┆ Program_D ┆ 2024-09-25 03:52:19.637095 ┆ 34309.11             ┆ 34309.11   │\n",
       "│ Vendor_6 ┆ Program_E ┆ 2024-09-12 00:26:22.414219 ┆ 57354.15             ┆ 57354.15   │\n",
       "│ Vendor_5 ┆ Program_A ┆ 2024-09-23 18:35:08.078890 ┆ 17566.51             ┆ 17566.51   │\n",
       "│ Vendor_3 ┆ Program_A ┆ 2024-09-17 18:56:17.120014 ┆ 18337.45             ┆ 18337.45   │\n",
       "│ Vendor_6 ┆ Program_B ┆ 2024-09-03 02:21:46.569968 ┆ 32021.13             ┆ 32021.13   │\n",
       "│ …        ┆ …         ┆ …                          ┆ …                    ┆ …          │\n",
       "│ Vendor_5 ┆ Program_A ┆ 2024-09-05 03:11:32.722222 ┆ 17768.43             ┆ 17768.43   │\n",
       "│ Vendor_4 ┆ Program_C ┆ 2024-09-08 16:45:01.071635 ┆ 22611.56             ┆ 22611.56   │\n",
       "│ Vendor_4 ┆ Program_E ┆ 2024-09-11 17:20:46.390587 ┆ 45293.58             ┆ 45293.58   │\n",
       "│ Vendor_4 ┆ Program_D ┆ 2024-09-18 01:40:39.987961 ┆ 41156.46             ┆ 41156.46   │\n",
       "│ Vendor_6 ┆ Program_E ┆ 2024-09-12 23:45:09.765369 ┆ 46330.56             ┆ 46330.56   │\n",
       "└──────────┴───────────┴────────────────────────────┴──────────────────────┴────────────┘"
      ]
     },
     "execution_count": 143,
     "metadata": {},
     "output_type": "execute_result"
    }
   ],
   "source": [
    "validated_merged = merged_df.filter(\n",
    "    (pl.col(\"reported_total_price\") - pl.col(\"total_cost\")).abs() <= epsilon\n",
    ")\n",
    "print(\"\\nValidated Merged DataFrame (with matching total costs):\")\n",
    "validated_merged"
   ]
  },
  {
   "cell_type": "markdown",
   "metadata": {},
   "source": [
    "# Part 3: Calculate Total Cost Per Program Per Vendor"
   ]
  },
  {
   "cell_type": "code",
   "execution_count": null,
   "metadata": {},
   "outputs": [],
   "source": []
  }
 ],
 "metadata": {
  "kernelspec": {
   "display_name": "Python 3",
   "language": "python",
   "name": "python3"
  },
  "language_info": {
   "codemirror_mode": {
    "name": "ipython",
    "version": 3
   },
   "file_extension": ".py",
   "mimetype": "text/x-python",
   "name": "python",
   "nbconvert_exporter": "python",
   "pygments_lexer": "ipython3",
   "version": "3.9.6"
  }
 },
 "nbformat": 4,
 "nbformat_minor": 2
}
