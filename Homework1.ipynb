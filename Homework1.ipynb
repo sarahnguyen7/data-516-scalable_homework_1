{
 "cells": [
  {
   "cell_type": "markdown",
   "metadata": {},
   "source": [
    "# Homework 1: Scalable Data 516\n",
    "In this assignment, we focus on the supply chain management of a hyperscale cloud provider, specifically on procuring server racks for data centers. Server racks consist of two main types of components: \n",
    "- **Server components** (e.g., CPU, SSD, HDD), which make up each individual server, and \n",
    "- **Rack components**, which hold all servers in a chassis and include a top-of-rack (TOR) networking switch for connectivity.\n",
    "\n",
    "## Situation\n",
    "\n",
    "We manage multiple server rack programs, with quotes submitted by various vendors. Initially, quotes were provided as summary-level totals for the entire server rack. Now, vendors submit detailed quotes, where each line represents the cost of an individual component. However, internal systems still rely on summary quotes, meaning vendors must provide both summary and detailed quote line items.\n",
    "\n",
    "Since vendor quotes are automated and can fluctuate daily, we need to ensure proper validation of incoming data. This will result in the following:\n",
    "\n",
    "1. The table of extended quantites per component for all programs.\n",
    "2. The table of total cost per program per vendor, based on the latest received quote.\n",
    "3. The table of total cost per program per vendor, based on the first received quote.\n",
    "4. The table of \"best-in-class\" total cost per program (regardless of vendor)."
   ]
  },
  {
   "cell_type": "code",
   "execution_count": 111,
   "metadata": {},
   "outputs": [],
   "source": [
    "import polars as pl\n",
    "from datetime import datetime"
   ]
  },
  {
   "cell_type": "markdown",
   "metadata": {},
   "source": [
    "## Part 1: Extended quantities per component for all programs\n",
    "Task: \n",
    "A table detailing the total server rack quantity for each component across all programs. Each record in the table should represent a distinct component. Each attribute of the table should represent a distinct program. The intersection of record and attribute should represent the total extended quantity of parts for that component and program combination.\n",
    "\n",
    "Process:\n",
    "First, we want to get all of the scaled quantities in one table. I multiplied the amount of servers listed for each program to every item in `server_specs`. Then, I concatenated the remaining of the items for `rack_specs` to get a list of scaled quantities to allow us to calculate the total cost per program per vendor."
   ]
  },
  {
   "cell_type": "code",
   "execution_count": 112,
   "metadata": {},
   "outputs": [],
   "source": [
    "# read in csv files and their respective sheets\n",
    "server_specs = pl.read_excel('input_data/program configurations.xlsx', sheet_name='server_specs')\n",
    "rack_specs = pl.read_excel('input_data/program configurations.xlsx', sheet_name='rack_specs')\n"
   ]
  },
  {
   "cell_type": "code",
   "execution_count": 113,
   "metadata": {},
   "outputs": [],
   "source": [
    "# filter rack_specs df to get only row where itme is SERVERS\n",
    "# remove item column to only leave numerical quantities for each server\n",
    "# then, get only first row from filtered df to get the quantities which outputs [12,8,14,10,10]\n",
    "servers_quantities = rack_specs.filter(pl.col('Item') == 'SERVERS').select(pl.exclude('Item')).row(0)\n",
    "\n",
    "# multiply each component in server_specs by the corresponding SERVERS quantity\n",
    "# we want (pl.col('Server A') * servers_quantities[0]).alias('Server A') for each server\n",
    "\n",
    "server_columns = ['Server A', 'Server B', 'Server C', 'Server D', 'Server E']\n",
    "scaled_servers_quantities = server_specs.with_columns([\n",
    "    (pl.col(server) * servers_quantities[i]).alias(server) \n",
    "    for i, server in enumerate(server_columns)\n",
    "])"
   ]
  },
  {
   "cell_type": "code",
   "execution_count": 114,
   "metadata": {},
   "outputs": [
    {
     "name": "stdout",
     "output_type": "stream",
     "text": [
      "Table with Extended Quantities Per Component for All Programs\n"
     ]
    },
    {
     "data": {
      "text/html": [
       "<div><style>\n",
       ".dataframe > thead > tr,\n",
       ".dataframe > tbody > tr {\n",
       "  text-align: right;\n",
       "  white-space: pre-wrap;\n",
       "}\n",
       "</style>\n",
       "<small>shape: (11, 6)</small><table border=\"1\" class=\"dataframe\"><thead><tr><th>Item</th><th>Server A</th><th>Server B</th><th>Server C</th><th>Server D</th><th>Server E</th></tr><tr><td>str</td><td>i64</td><td>i64</td><td>i64</td><td>i64</td><td>i64</td></tr></thead><tbody><tr><td>&quot;CPU&quot;</td><td>24</td><td>16</td><td>28</td><td>10</td><td>10</td></tr><tr><td>&quot;GPU&quot;</td><td>0</td><td>32</td><td>0</td><td>0</td><td>20</td></tr><tr><td>&quot;RAM&quot;</td><td>48</td><td>32</td><td>56</td><td>80</td><td>80</td></tr><tr><td>&quot;SSD&quot;</td><td>12</td><td>16</td><td>14</td><td>10</td><td>0</td></tr><tr><td>&quot;HDD&quot;</td><td>0</td><td>0</td><td>0</td><td>200</td><td>200</td></tr><tr><td>&hellip;</td><td>&hellip;</td><td>&hellip;</td><td>&hellip;</td><td>&hellip;</td><td>&hellip;</td></tr><tr><td>&quot;NIC&quot;</td><td>24</td><td>16</td><td>28</td><td>20</td><td>10</td></tr><tr><td>&quot;PSU&quot;</td><td>12</td><td>16</td><td>14</td><td>10</td><td>10</td></tr><tr><td>&quot;TRAY&quot;</td><td>12</td><td>8</td><td>14</td><td>10</td><td>10</td></tr><tr><td>&quot;TOR&quot;</td><td>1</td><td>2</td><td>1</td><td>1</td><td>1</td></tr><tr><td>&quot;CHASSIS&quot;</td><td>1</td><td>1</td><td>1</td><td>1</td><td>1</td></tr></tbody></table></div>"
      ],
      "text/plain": [
       "shape: (11, 6)\n",
       "┌─────────┬──────────┬──────────┬──────────┬──────────┬──────────┐\n",
       "│ Item    ┆ Server A ┆ Server B ┆ Server C ┆ Server D ┆ Server E │\n",
       "│ ---     ┆ ---      ┆ ---      ┆ ---      ┆ ---      ┆ ---      │\n",
       "│ str     ┆ i64      ┆ i64      ┆ i64      ┆ i64      ┆ i64      │\n",
       "╞═════════╪══════════╪══════════╪══════════╪══════════╪══════════╡\n",
       "│ CPU     ┆ 24       ┆ 16       ┆ 28       ┆ 10       ┆ 10       │\n",
       "│ GPU     ┆ 0        ┆ 32       ┆ 0        ┆ 0        ┆ 20       │\n",
       "│ RAM     ┆ 48       ┆ 32       ┆ 56       ┆ 80       ┆ 80       │\n",
       "│ SSD     ┆ 12       ┆ 16       ┆ 14       ┆ 10       ┆ 0        │\n",
       "│ HDD     ┆ 0        ┆ 0        ┆ 0        ┆ 200      ┆ 200      │\n",
       "│ …       ┆ …        ┆ …        ┆ …        ┆ …        ┆ …        │\n",
       "│ NIC     ┆ 24       ┆ 16       ┆ 28       ┆ 20       ┆ 10       │\n",
       "│ PSU     ┆ 12       ┆ 16       ┆ 14       ┆ 10       ┆ 10       │\n",
       "│ TRAY    ┆ 12       ┆ 8        ┆ 14       ┆ 10       ┆ 10       │\n",
       "│ TOR     ┆ 1        ┆ 2        ┆ 1        ┆ 1        ┆ 1        │\n",
       "│ CHASSIS ┆ 1        ┆ 1        ┆ 1        ┆ 1        ┆ 1        │\n",
       "└─────────┴──────────┴──────────┴──────────┴──────────┴──────────┘"
      ]
     },
     "execution_count": 114,
     "metadata": {},
     "output_type": "execute_result"
    }
   ],
   "source": [
    "rack_quantities = rack_specs.filter(pl.col('Item').is_in(['TOR', 'CHASSIS']))\n",
    "\n",
    "extended_quantities_df = pl.concat([scaled_servers_quantities, rack_quantities], how='vertical')\n",
    "\n",
    "print(\"Table with Extended Quantities Per Component for All Programs\")\n",
    "\n",
    "extended_quantities_df.write_csv(\"output_tables/extended_quantities_df.csv\")\n",
    "\n",
    "extended_quantities_df"
   ]
  },
  {
   "cell_type": "markdown",
   "metadata": {},
   "source": [
    "## Part 2: Data Validation Requirements\n",
    "We need to calculate the total cost per program/server per vendor based on the latest received quote. Therefore, we'll first need to filter the `quote_lines.csv` by our data validation requirements given at the beginning which were:\n",
    "- Quotes for a given month can only be accepted starting on the first Monday of the month and ending on the 25th. These boundary dates are inclusive. Any quotes provided outside of these dates will not be considered.\n",
    "- The sum of the quote line details must match the provided quote summary total. If the two datasets do not agree, the quotes will not be considered.\n",
    "- We do not purchase Program C and Program E quotes from Vendor 7. Vendor 7’s systems are configured to quote all available programs, so these quotes need to be discarded."
   ]
  },
  {
   "cell_type": "markdown",
   "metadata": {},
   "source": [
    "#### Loading in the Data \n",
    "Loading in `quote_lines.csv` and `quote_summaries.csv`"
   ]
  },
  {
   "cell_type": "code",
   "execution_count": 115,
   "metadata": {},
   "outputs": [],
   "source": [
    "# Reading in the raw data and doing some light formatting before we get started\n",
    "# Converted the quote_timestamp column from string to datetime format to make it produce meaningful calculations\n",
    "quote_lines_df_raw = (\n",
    "    pl.read_csv(\"input_data/quote_lines.csv\")\n",
    "    .rename({\"Vendor\":\"vendor\", \"Program\":\"program\"})\n",
    "    .with_columns(\n",
    "    pl.col(\"quote_timestamp\").str.to_datetime().alias(\"quote_timestamp\")      \n",
    "\n",
    "    )\n",
    ")\n",
    "\n"
   ]
  },
  {
   "cell_type": "code",
   "execution_count": 116,
   "metadata": {},
   "outputs": [],
   "source": [
    "# reformatting quote_summaries.csv\n",
    "relabel_to_program = {\n",
    "    \"A\": \"Program_A\",\n",
    "    \"B\": \"Program_B\",\n",
    "    \"C\": \"Program_C\",\n",
    "    \"D\": \"Program_D\",\n",
    "    \"E\": \"Program_E\"\n",
    "}\n",
    "quote_summaries_df_raw = (\n",
    "    pl.read_csv(\"input_data/quote_summaries.csv\")\n",
    "    .with_columns(\n",
    "    pl.col(\"quote_timestamp\").str.to_datetime().alias(\"quote_timestamp\")\n",
    "    )\n",
    ")\n",
    "\n",
    "quote_summaries_df_raw = quote_summaries_df_raw.with_columns(\n",
    "    pl.col(\"program\").replace(relabel_to_program).alias(\"program\")\n",
    ")\n"
   ]
  },
  {
   "cell_type": "code",
   "execution_count": 117,
   "metadata": {},
   "outputs": [],
   "source": [
    "# Filtering our data between required timeframes and specified vendor info \n",
    "def filter_quote_dataframes(df: pl.DataFrame, program_prefix: str = \"\") -> pl.DataFrame:\n",
    "    filtered_df = (\n",
    "        df.filter(\n",
    "            pl.col(\"quote_timestamp\").is_between(datetime(2024, 9, 2), datetime(2024, 9, 26))\n",
    "        )\n",
    "        .filter(\n",
    "            ~((pl.col(\"vendor\") == \"Vendor_7\") & (pl.col(\"program\").is_in([f\"{program_prefix}C\", f\"{program_prefix}E\"])))\n",
    "        )\n",
    "    )\n",
    "\n",
    "    return filtered_df\n",
    "\n",
    "filtered_quote_lines_df1 = filter_quote_dataframes(quote_lines_df_raw, \"Program_\")\n",
    "filtered_quote_summaries_df1 = filter_quote_dataframes(quote_summaries_df_raw, \"Program_\")\n"
   ]
  },
  {
   "cell_type": "code",
   "execution_count": 118,
   "metadata": {},
   "outputs": [
    {
     "data": {
      "text/html": [
       "<div><style>\n",
       ".dataframe > thead > tr,\n",
       ".dataframe > tbody > tr {\n",
       "  text-align: right;\n",
       "  white-space: pre-wrap;\n",
       "}\n",
       "</style>\n",
       "<small>shape: (155, 14)</small><table border=\"1\" class=\"dataframe\"><thead><tr><th>vendor</th><th>program</th><th>quote_timestamp</th><th>CPU</th><th>GPU</th><th>RAM</th><th>SSD</th><th>HDD</th><th>MOBO</th><th>NIC</th><th>PSU</th><th>TRAY</th><th>TOR</th><th>CHASSIS</th></tr><tr><td>str</td><td>str</td><td>datetime[μs]</td><td>f64</td><td>f64</td><td>f64</td><td>f64</td><td>f64</td><td>f64</td><td>f64</td><td>f64</td><td>f64</td><td>f64</td><td>f64</td></tr></thead><tbody><tr><td>&quot;Vendor_7&quot;</td><td>&quot;Program_D&quot;</td><td>2024-09-25 03:52:19.637095</td><td>305.84</td><td>409.06</td><td>53.43</td><td>196.14</td><td>103.49</td><td>107.72</td><td>20.98</td><td>94.19</td><td>11.57</td><td>746.67</td><td>1015.84</td></tr><tr><td>&quot;Vendor_6&quot;</td><td>&quot;Program_E&quot;</td><td>2024-09-12 00:26:22.414219</td><td>324.21</td><td>446.35</td><td>44.91</td><td>194.27</td><td>184.53</td><td>100.12</td><td>28.8</td><td>89.99</td><td>70.05</td><td>728.08</td><td>1068.57</td></tr><tr><td>&quot;Vendor_5&quot;</td><td>&quot;Program_A&quot;</td><td>2024-09-23 18:35:08.078890</td><td>300.29</td><td>414.38</td><td>48.73</td><td>187.55</td><td>105.42</td><td>103.5</td><td>21.64</td><td>102.29</td><td>22.98</td><td>734.33</td><td>1770.98</td></tr><tr><td>&quot;Vendor_5&quot;</td><td>&quot;Program_B&quot;</td><td>2024-09-24 11:33:41.034306</td><td>333.53</td><td>445.41</td><td>48.16</td><td>193.25</td><td>104.02</td><td>90.87</td><td>23.0</td><td>113.9</td><td>80.13</td><td>616.13</td><td>1563.11</td></tr><tr><td>&quot;Vendor_3&quot;</td><td>&quot;Program_A&quot;</td><td>2024-09-17 18:56:17.120014</td><td>338.88</td><td>441.63</td><td>51.69</td><td>198.78</td><td>110.31</td><td>113.62</td><td>23.77</td><td>112.67</td><td>32.99</td><td>547.85</td><td>1108.16</td></tr><tr><td>&hellip;</td><td>&hellip;</td><td>&hellip;</td><td>&hellip;</td><td>&hellip;</td><td>&hellip;</td><td>&hellip;</td><td>&hellip;</td><td>&hellip;</td><td>&hellip;</td><td>&hellip;</td><td>&hellip;</td><td>&hellip;</td><td>&hellip;</td></tr><tr><td>&quot;Vendor_5&quot;</td><td>&quot;Program_A&quot;</td><td>2024-09-05 03:11:32.722222</td><td>330.5</td><td>468.04</td><td>47.79</td><td>190.65</td><td>110.16</td><td>91.25</td><td>25.52</td><td>94.26</td><td>38.55</td><td>684.71</td><td>1268.8</td></tr><tr><td>&quot;Vendor_4&quot;</td><td>&quot;Program_C&quot;</td><td>2024-09-08 16:45:01.071635</td><td>338.68</td><td>466.55</td><td>50.5</td><td>190.87</td><td>142.77</td><td>102.34</td><td>29.21</td><td>116.78</td><td>93.16</td><td>617.82</td><td>1820.72</td></tr><tr><td>&quot;Vendor_4&quot;</td><td>&quot;Program_E&quot;</td><td>2024-09-11 17:20:46.390587</td><td>313.77</td><td>476.99</td><td>46.76</td><td>191.12</td><td>122.7</td><td>81.18</td><td>28.76</td><td>115.58</td><td>27.46</td><td>711.28</td><td>1094.2</td></tr><tr><td>&quot;Vendor_4&quot;</td><td>&quot;Program_D&quot;</td><td>2024-09-18 01:40:39.987961</td><td>310.68</td><td>457.19</td><td>49.46</td><td>199.81</td><td>134.83</td><td>106.66</td><td>24.49</td><td>81.97</td><td>97.49</td><td>607.15</td><td>1170.61</td></tr><tr><td>&quot;Vendor_6&quot;</td><td>&quot;Program_E&quot;</td><td>2024-09-12 23:45:09.765369</td><td>339.08</td><td>429.01</td><td>44.33</td><td>180.53</td><td>131.31</td><td>101.6</td><td>26.44</td><td>86.62</td><td>11.57</td><td>611.23</td><td>1677.63</td></tr></tbody></table></div>"
      ],
      "text/plain": [
       "shape: (155, 14)\n",
       "┌──────────┬───────────┬─────────────────┬────────┬───┬────────┬───────┬────────┬─────────┐\n",
       "│ vendor   ┆ program   ┆ quote_timestamp ┆ CPU    ┆ … ┆ PSU    ┆ TRAY  ┆ TOR    ┆ CHASSIS │\n",
       "│ ---      ┆ ---       ┆ ---             ┆ ---    ┆   ┆ ---    ┆ ---   ┆ ---    ┆ ---     │\n",
       "│ str      ┆ str       ┆ datetime[μs]    ┆ f64    ┆   ┆ f64    ┆ f64   ┆ f64    ┆ f64     │\n",
       "╞══════════╪═══════════╪═════════════════╪════════╪═══╪════════╪═══════╪════════╪═════════╡\n",
       "│ Vendor_7 ┆ Program_D ┆ 2024-09-25      ┆ 305.84 ┆ … ┆ 94.19  ┆ 11.57 ┆ 746.67 ┆ 1015.84 │\n",
       "│          ┆           ┆ 03:52:19.637095 ┆        ┆   ┆        ┆       ┆        ┆         │\n",
       "│ Vendor_6 ┆ Program_E ┆ 2024-09-12      ┆ 324.21 ┆ … ┆ 89.99  ┆ 70.05 ┆ 728.08 ┆ 1068.57 │\n",
       "│          ┆           ┆ 00:26:22.414219 ┆        ┆   ┆        ┆       ┆        ┆         │\n",
       "│ Vendor_5 ┆ Program_A ┆ 2024-09-23      ┆ 300.29 ┆ … ┆ 102.29 ┆ 22.98 ┆ 734.33 ┆ 1770.98 │\n",
       "│          ┆           ┆ 18:35:08.078890 ┆        ┆   ┆        ┆       ┆        ┆         │\n",
       "│ Vendor_5 ┆ Program_B ┆ 2024-09-24      ┆ 333.53 ┆ … ┆ 113.9  ┆ 80.13 ┆ 616.13 ┆ 1563.11 │\n",
       "│          ┆           ┆ 11:33:41.034306 ┆        ┆   ┆        ┆       ┆        ┆         │\n",
       "│ Vendor_3 ┆ Program_A ┆ 2024-09-17      ┆ 338.88 ┆ … ┆ 112.67 ┆ 32.99 ┆ 547.85 ┆ 1108.16 │\n",
       "│          ┆           ┆ 18:56:17.120014 ┆        ┆   ┆        ┆       ┆        ┆         │\n",
       "│ …        ┆ …         ┆ …               ┆ …      ┆ … ┆ …      ┆ …     ┆ …      ┆ …       │\n",
       "│ Vendor_5 ┆ Program_A ┆ 2024-09-05      ┆ 330.5  ┆ … ┆ 94.26  ┆ 38.55 ┆ 684.71 ┆ 1268.8  │\n",
       "│          ┆           ┆ 03:11:32.722222 ┆        ┆   ┆        ┆       ┆        ┆         │\n",
       "│ Vendor_4 ┆ Program_C ┆ 2024-09-08      ┆ 338.68 ┆ … ┆ 116.78 ┆ 93.16 ┆ 617.82 ┆ 1820.72 │\n",
       "│          ┆           ┆ 16:45:01.071635 ┆        ┆   ┆        ┆       ┆        ┆         │\n",
       "│ Vendor_4 ┆ Program_E ┆ 2024-09-11      ┆ 313.77 ┆ … ┆ 115.58 ┆ 27.46 ┆ 711.28 ┆ 1094.2  │\n",
       "│          ┆           ┆ 17:20:46.390587 ┆        ┆   ┆        ┆       ┆        ┆         │\n",
       "│ Vendor_4 ┆ Program_D ┆ 2024-09-18      ┆ 310.68 ┆ … ┆ 81.97  ┆ 97.49 ┆ 607.15 ┆ 1170.61 │\n",
       "│          ┆           ┆ 01:40:39.987961 ┆        ┆   ┆        ┆       ┆        ┆         │\n",
       "│ Vendor_6 ┆ Program_E ┆ 2024-09-12      ┆ 339.08 ┆ … ┆ 86.62  ┆ 11.57 ┆ 611.23 ┆ 1677.63 │\n",
       "│          ┆           ┆ 23:45:09.765369 ┆        ┆   ┆        ┆       ┆        ┆         │\n",
       "└──────────┴───────────┴─────────────────┴────────┴───┴────────┴───────┴────────┴─────────┘"
      ]
     },
     "execution_count": 118,
     "metadata": {},
     "output_type": "execute_result"
    }
   ],
   "source": [
    "filtered_quote_lines_df1"
   ]
  },
  {
   "cell_type": "code",
   "execution_count": 119,
   "metadata": {},
   "outputs": [
    {
     "data": {
      "text/html": [
       "<div><style>\n",
       ".dataframe > thead > tr,\n",
       ".dataframe > tbody > tr {\n",
       "  text-align: right;\n",
       "  white-space: pre-wrap;\n",
       "}\n",
       "</style>\n",
       "<small>shape: (155, 4)</small><table border=\"1\" class=\"dataframe\"><thead><tr><th>vendor</th><th>program</th><th>quote_timestamp</th><th>reported_total_price</th></tr><tr><td>str</td><td>str</td><td>datetime[μs]</td><td>f64</td></tr></thead><tbody><tr><td>&quot;Vendor_7&quot;</td><td>&quot;Program_A&quot;</td><td>2024-09-08 09:24:26.457788</td><td>18166.85</td></tr><tr><td>&quot;Vendor_1&quot;</td><td>&quot;Program_D&quot;</td><td>2024-09-24 20:49:52.296317</td><td>52527.28</td></tr><tr><td>&quot;Vendor_1&quot;</td><td>&quot;Program_D&quot;</td><td>2024-09-04 17:07:58.019610</td><td>36545.28</td></tr><tr><td>&quot;Vendor_5&quot;</td><td>&quot;Program_D&quot;</td><td>2024-09-04 20:43:51.024192</td><td>36864.57</td></tr><tr><td>&quot;Vendor_5&quot;</td><td>&quot;Program_D&quot;</td><td>2024-09-14 06:05:48.206929</td><td>49587.42</td></tr><tr><td>&hellip;</td><td>&hellip;</td><td>&hellip;</td><td>&hellip;</td></tr><tr><td>&quot;Vendor_6&quot;</td><td>&quot;Program_E&quot;</td><td>2024-09-05 02:24:06.963283</td><td>54307.11</td></tr><tr><td>&quot;Vendor_6&quot;</td><td>&quot;Program_B&quot;</td><td>2024-09-03 04:36:02.445715</td><td>29320.38</td></tr><tr><td>&quot;Vendor_1&quot;</td><td>&quot;Program_E&quot;</td><td>2024-09-24 10:23:03.302944</td><td>54118.35</td></tr><tr><td>&quot;Vendor_7&quot;</td><td>&quot;Program_A&quot;</td><td>2024-09-20 03:53:18.814830</td><td>18946.16</td></tr><tr><td>&quot;Vendor_6&quot;</td><td>&quot;Program_E&quot;</td><td>2024-09-12 00:26:22.414219</td><td>57354.15</td></tr></tbody></table></div>"
      ],
      "text/plain": [
       "shape: (155, 4)\n",
       "┌──────────┬───────────┬────────────────────────────┬──────────────────────┐\n",
       "│ vendor   ┆ program   ┆ quote_timestamp            ┆ reported_total_price │\n",
       "│ ---      ┆ ---       ┆ ---                        ┆ ---                  │\n",
       "│ str      ┆ str       ┆ datetime[μs]               ┆ f64                  │\n",
       "╞══════════╪═══════════╪════════════════════════════╪══════════════════════╡\n",
       "│ Vendor_7 ┆ Program_A ┆ 2024-09-08 09:24:26.457788 ┆ 18166.85             │\n",
       "│ Vendor_1 ┆ Program_D ┆ 2024-09-24 20:49:52.296317 ┆ 52527.28             │\n",
       "│ Vendor_1 ┆ Program_D ┆ 2024-09-04 17:07:58.019610 ┆ 36545.28             │\n",
       "│ Vendor_5 ┆ Program_D ┆ 2024-09-04 20:43:51.024192 ┆ 36864.57             │\n",
       "│ Vendor_5 ┆ Program_D ┆ 2024-09-14 06:05:48.206929 ┆ 49587.42             │\n",
       "│ …        ┆ …         ┆ …                          ┆ …                    │\n",
       "│ Vendor_6 ┆ Program_E ┆ 2024-09-05 02:24:06.963283 ┆ 54307.11             │\n",
       "│ Vendor_6 ┆ Program_B ┆ 2024-09-03 04:36:02.445715 ┆ 29320.38             │\n",
       "│ Vendor_1 ┆ Program_E ┆ 2024-09-24 10:23:03.302944 ┆ 54118.35             │\n",
       "│ Vendor_7 ┆ Program_A ┆ 2024-09-20 03:53:18.814830 ┆ 18946.16             │\n",
       "│ Vendor_6 ┆ Program_E ┆ 2024-09-12 00:26:22.414219 ┆ 57354.15             │\n",
       "└──────────┴───────────┴────────────────────────────┴──────────────────────┘"
      ]
     },
     "execution_count": 119,
     "metadata": {},
     "output_type": "execute_result"
    }
   ],
   "source": [
    "filtered_quote_summaries_df1"
   ]
  },
  {
   "cell_type": "markdown",
   "metadata": {},
   "source": [
    "## Calculating Server Rack Quantities\n",
    "To calculate the server rack quantities, we will pivot the previously filtered tables. This process will be broken down into three main steps:\n",
    "\n",
    "#### Part 1: Unpivot\n",
    "First, we will unpivot the `filtered_quote_lines_df1` DataFrame while keeping the vendor, program, and quote_timestamp columns as the index. This will transform all the components (e.g., CPU, GPU, etc.) into a vertical structure. Then, we'll unpivot the `extended_quantities_df` to move the Servers vertically, and rename this column to program for consistency.\n",
    "\n",
    "#### Part 2: Merge\n",
    "Next, we will merge the unpivoted tables based on the `program` and `item` columns. After merging, we will multiply the extended quantity and price to scale the data and create a new column representing the total price per component. This will result in the `Table of Scaled Cost Per Component`.\n",
    "\n",
    "#### Part 3: Pivot and Sum\n",
    "Finally, we will pivot the data back to its original wide format after scaling, then sum the values across all components to obtain the final server rack quantities."
   ]
  },
  {
   "cell_type": "code",
   "execution_count": 120,
   "metadata": {},
   "outputs": [],
   "source": [
    "# Part 1: Unpivot the two dataframes to get similar structure\n",
    "\n",
    "filtered_quote_lines_unpivoted = filtered_quote_lines_df1.unpivot(\n",
    "    index=[\"vendor\", \"program\", \"quote_timestamp\"],  \n",
    "    variable_name=\"item\",  \n",
    "    value_name=\"price\"  \n",
    ")\n",
    "extended_quantities_unpivoted = extended_quantities_df.unpivot(\n",
    "    index=\"Item\",  \n",
    "    variable_name=\"program\",  \n",
    "    value_name=\"quantity\"  \n",
    ")"
   ]
  },
  {
   "cell_type": "code",
   "execution_count": 121,
   "metadata": {},
   "outputs": [],
   "source": [
    "# relabeling \"Server _\" to \"Program _\"\n",
    "server_to_program = {\n",
    "    \"Server A\": \"Program_A\",\n",
    "    \"Server B\": \"Program_B\",\n",
    "    \"Server C\": \"Program_C\",\n",
    "    \"Server D\": \"Program_D\",\n",
    "    \"Server E\": \"Program_E\"\n",
    "}\n",
    "\n",
    "extended_quantities_unpivoted = extended_quantities_unpivoted.with_columns(\n",
    "    pl.col(\"program\").replace(server_to_program).alias(\"program\")\n",
    ")"
   ]
  },
  {
   "cell_type": "code",
   "execution_count": 122,
   "metadata": {},
   "outputs": [
    {
     "name": "stdout",
     "output_type": "stream",
     "text": [
      "Table of Scaled Cost Per Component\n"
     ]
    },
    {
     "data": {
      "text/html": [
       "<div><style>\n",
       ".dataframe > thead > tr,\n",
       ".dataframe > tbody > tr {\n",
       "  text-align: right;\n",
       "  white-space: pre-wrap;\n",
       "}\n",
       "</style>\n",
       "<small>shape: (1_705, 7)</small><table border=\"1\" class=\"dataframe\"><thead><tr><th>Item</th><th>program</th><th>quantity</th><th>vendor</th><th>quote_timestamp</th><th>price</th><th>scaled_price</th></tr><tr><td>str</td><td>str</td><td>i64</td><td>str</td><td>datetime[μs]</td><td>f64</td><td>f64</td></tr></thead><tbody><tr><td>&quot;CPU&quot;</td><td>&quot;Program_D&quot;</td><td>10</td><td>&quot;Vendor_7&quot;</td><td>2024-09-25 03:52:19.637095</td><td>305.84</td><td>3058.4</td></tr><tr><td>&quot;CPU&quot;</td><td>&quot;Program_E&quot;</td><td>10</td><td>&quot;Vendor_6&quot;</td><td>2024-09-12 00:26:22.414219</td><td>324.21</td><td>3242.1</td></tr><tr><td>&quot;CPU&quot;</td><td>&quot;Program_A&quot;</td><td>24</td><td>&quot;Vendor_5&quot;</td><td>2024-09-23 18:35:08.078890</td><td>300.29</td><td>7206.96</td></tr><tr><td>&quot;CPU&quot;</td><td>&quot;Program_B&quot;</td><td>16</td><td>&quot;Vendor_5&quot;</td><td>2024-09-24 11:33:41.034306</td><td>333.53</td><td>5336.48</td></tr><tr><td>&quot;CPU&quot;</td><td>&quot;Program_A&quot;</td><td>24</td><td>&quot;Vendor_3&quot;</td><td>2024-09-17 18:56:17.120014</td><td>338.88</td><td>8133.12</td></tr><tr><td>&hellip;</td><td>&hellip;</td><td>&hellip;</td><td>&hellip;</td><td>&hellip;</td><td>&hellip;</td><td>&hellip;</td></tr><tr><td>&quot;CHASSIS&quot;</td><td>&quot;Program_A&quot;</td><td>1</td><td>&quot;Vendor_5&quot;</td><td>2024-09-05 03:11:32.722222</td><td>1268.8</td><td>1268.8</td></tr><tr><td>&quot;CHASSIS&quot;</td><td>&quot;Program_C&quot;</td><td>1</td><td>&quot;Vendor_4&quot;</td><td>2024-09-08 16:45:01.071635</td><td>1820.72</td><td>1820.72</td></tr><tr><td>&quot;CHASSIS&quot;</td><td>&quot;Program_E&quot;</td><td>1</td><td>&quot;Vendor_4&quot;</td><td>2024-09-11 17:20:46.390587</td><td>1094.2</td><td>1094.2</td></tr><tr><td>&quot;CHASSIS&quot;</td><td>&quot;Program_D&quot;</td><td>1</td><td>&quot;Vendor_4&quot;</td><td>2024-09-18 01:40:39.987961</td><td>1170.61</td><td>1170.61</td></tr><tr><td>&quot;CHASSIS&quot;</td><td>&quot;Program_E&quot;</td><td>1</td><td>&quot;Vendor_6&quot;</td><td>2024-09-12 23:45:09.765369</td><td>1677.63</td><td>1677.63</td></tr></tbody></table></div>"
      ],
      "text/plain": [
       "shape: (1_705, 7)\n",
       "┌─────────┬───────────┬──────────┬──────────┬────────────────────────────┬─────────┬──────────────┐\n",
       "│ Item    ┆ program   ┆ quantity ┆ vendor   ┆ quote_timestamp            ┆ price   ┆ scaled_price │\n",
       "│ ---     ┆ ---       ┆ ---      ┆ ---      ┆ ---                        ┆ ---     ┆ ---          │\n",
       "│ str     ┆ str       ┆ i64      ┆ str      ┆ datetime[μs]               ┆ f64     ┆ f64          │\n",
       "╞═════════╪═══════════╪══════════╪══════════╪════════════════════════════╪═════════╪══════════════╡\n",
       "│ CPU     ┆ Program_D ┆ 10       ┆ Vendor_7 ┆ 2024-09-25 03:52:19.637095 ┆ 305.84  ┆ 3058.4       │\n",
       "│ CPU     ┆ Program_E ┆ 10       ┆ Vendor_6 ┆ 2024-09-12 00:26:22.414219 ┆ 324.21  ┆ 3242.1       │\n",
       "│ CPU     ┆ Program_A ┆ 24       ┆ Vendor_5 ┆ 2024-09-23 18:35:08.078890 ┆ 300.29  ┆ 7206.96      │\n",
       "│ CPU     ┆ Program_B ┆ 16       ┆ Vendor_5 ┆ 2024-09-24 11:33:41.034306 ┆ 333.53  ┆ 5336.48      │\n",
       "│ CPU     ┆ Program_A ┆ 24       ┆ Vendor_3 ┆ 2024-09-17 18:56:17.120014 ┆ 338.88  ┆ 8133.12      │\n",
       "│ …       ┆ …         ┆ …        ┆ …        ┆ …                          ┆ …       ┆ …            │\n",
       "│ CHASSIS ┆ Program_A ┆ 1        ┆ Vendor_5 ┆ 2024-09-05 03:11:32.722222 ┆ 1268.8  ┆ 1268.8       │\n",
       "│ CHASSIS ┆ Program_C ┆ 1        ┆ Vendor_4 ┆ 2024-09-08 16:45:01.071635 ┆ 1820.72 ┆ 1820.72      │\n",
       "│ CHASSIS ┆ Program_E ┆ 1        ┆ Vendor_4 ┆ 2024-09-11 17:20:46.390587 ┆ 1094.2  ┆ 1094.2       │\n",
       "│ CHASSIS ┆ Program_D ┆ 1        ┆ Vendor_4 ┆ 2024-09-18 01:40:39.987961 ┆ 1170.61 ┆ 1170.61      │\n",
       "│ CHASSIS ┆ Program_E ┆ 1        ┆ Vendor_6 ┆ 2024-09-12 23:45:09.765369 ┆ 1677.63 ┆ 1677.63      │\n",
       "└─────────┴───────────┴──────────┴──────────┴────────────────────────────┴─────────┴──────────────┘"
      ]
     },
     "execution_count": 122,
     "metadata": {},
     "output_type": "execute_result"
    }
   ],
   "source": [
    "# Part 2: Merging\n",
    "# Calculate the scaled prices after merging\n",
    "merged_df = extended_quantities_unpivoted.join(\n",
    "    filtered_quote_lines_unpivoted,  \n",
    "    left_on=[\"program\", \"Item\"],     \n",
    "    right_on=[\"program\", \"item\"],    \n",
    "    how=\"inner\"                      \n",
    ")\n",
    "\n",
    "scaled_components_df = merged_df.with_columns(\n",
    "    (pl.col(\"quantity\") * pl.col(\"price\")).alias(\"scaled_price\")\n",
    ")\n",
    "print(\"Table of Scaled Cost Per Component\")\n",
    "scaled_components_df"
   ]
  },
  {
   "cell_type": "code",
   "execution_count": 123,
   "metadata": {},
   "outputs": [
    {
     "data": {
      "text/html": [
       "<div><style>\n",
       ".dataframe > thead > tr,\n",
       ".dataframe > tbody > tr {\n",
       "  text-align: right;\n",
       "  white-space: pre-wrap;\n",
       "}\n",
       "</style>\n",
       "<small>shape: (155, 15)</small><table border=\"1\" class=\"dataframe\"><thead><tr><th>vendor</th><th>program</th><th>quote_timestamp</th><th>CPU</th><th>GPU</th><th>RAM</th><th>SSD</th><th>HDD</th><th>MOBO</th><th>NIC</th><th>PSU</th><th>TRAY</th><th>TOR</th><th>CHASSIS</th><th>total_cost</th></tr><tr><td>str</td><td>str</td><td>datetime[μs]</td><td>f64</td><td>f64</td><td>f64</td><td>f64</td><td>f64</td><td>f64</td><td>f64</td><td>f64</td><td>f64</td><td>f64</td><td>f64</td><td>f64</td></tr></thead><tbody><tr><td>&quot;Vendor_7&quot;</td><td>&quot;Program_D&quot;</td><td>2024-09-25 03:52:19.637095</td><td>3058.4</td><td>0.0</td><td>4274.4</td><td>1961.4</td><td>20698.0</td><td>1077.2</td><td>419.6</td><td>941.9</td><td>115.7</td><td>746.67</td><td>1015.84</td><td>34309.11</td></tr><tr><td>&quot;Vendor_6&quot;</td><td>&quot;Program_E&quot;</td><td>2024-09-12 00:26:22.414219</td><td>3242.1</td><td>8927.0</td><td>3592.8</td><td>0.0</td><td>36906.0</td><td>1001.2</td><td>288.0</td><td>899.9</td><td>700.5</td><td>728.08</td><td>1068.57</td><td>57354.15</td></tr><tr><td>&quot;Vendor_5&quot;</td><td>&quot;Program_A&quot;</td><td>2024-09-23 18:35:08.078890</td><td>7206.96</td><td>0.0</td><td>2339.04</td><td>2250.6</td><td>0.0</td><td>1242.0</td><td>519.36</td><td>1227.48</td><td>275.76</td><td>734.33</td><td>1770.98</td><td>17566.51</td></tr><tr><td>&quot;Vendor_5&quot;</td><td>&quot;Program_B&quot;</td><td>2024-09-24 11:33:41.034306</td><td>5336.48</td><td>14253.12</td><td>1541.12</td><td>3092.0</td><td>0.0</td><td>726.96</td><td>368.0</td><td>1822.4</td><td>641.04</td><td>1232.26</td><td>1563.11</td><td>30576.49</td></tr><tr><td>&quot;Vendor_3&quot;</td><td>&quot;Program_A&quot;</td><td>2024-09-17 18:56:17.120014</td><td>8133.12</td><td>0.0</td><td>2481.12</td><td>2385.36</td><td>0.0</td><td>1363.44</td><td>570.48</td><td>1352.04</td><td>395.88</td><td>547.85</td><td>1108.16</td><td>18337.45</td></tr><tr><td>&hellip;</td><td>&hellip;</td><td>&hellip;</td><td>&hellip;</td><td>&hellip;</td><td>&hellip;</td><td>&hellip;</td><td>&hellip;</td><td>&hellip;</td><td>&hellip;</td><td>&hellip;</td><td>&hellip;</td><td>&hellip;</td><td>&hellip;</td><td>&hellip;</td></tr><tr><td>&quot;Vendor_5&quot;</td><td>&quot;Program_A&quot;</td><td>2024-09-05 03:11:32.722222</td><td>7932.0</td><td>0.0</td><td>2293.92</td><td>2287.8</td><td>0.0</td><td>1095.0</td><td>612.48</td><td>1131.12</td><td>462.6</td><td>684.71</td><td>1268.8</td><td>17768.43</td></tr><tr><td>&quot;Vendor_4&quot;</td><td>&quot;Program_C&quot;</td><td>2024-09-08 16:45:01.071635</td><td>9483.04</td><td>0.0</td><td>2828.0</td><td>2672.18</td><td>0.0</td><td>1432.76</td><td>817.88</td><td>1634.92</td><td>1304.24</td><td>617.82</td><td>1820.72</td><td>22611.56</td></tr><tr><td>&quot;Vendor_4&quot;</td><td>&quot;Program_E&quot;</td><td>2024-09-11 17:20:46.390587</td><td>3137.7</td><td>9539.8</td><td>3740.8</td><td>0.0</td><td>24540.0</td><td>811.8</td><td>287.6</td><td>1155.8</td><td>274.6</td><td>711.28</td><td>1094.2</td><td>45293.58</td></tr><tr><td>&quot;Vendor_4&quot;</td><td>&quot;Program_D&quot;</td><td>2024-09-18 01:40:39.987961</td><td>3106.8</td><td>0.0</td><td>3956.8</td><td>1998.1</td><td>26966.0</td><td>1066.6</td><td>489.8</td><td>819.7</td><td>974.9</td><td>607.15</td><td>1170.61</td><td>41156.46</td></tr><tr><td>&quot;Vendor_6&quot;</td><td>&quot;Program_E&quot;</td><td>2024-09-12 23:45:09.765369</td><td>3390.8</td><td>8580.2</td><td>3546.4</td><td>0.0</td><td>26262.0</td><td>1016.0</td><td>264.4</td><td>866.2</td><td>115.7</td><td>611.23</td><td>1677.63</td><td>46330.56</td></tr></tbody></table></div>"
      ],
      "text/plain": [
       "shape: (155, 15)\n",
       "┌──────────┬───────────┬──────────────────┬─────────┬───┬─────────┬─────────┬─────────┬────────────┐\n",
       "│ vendor   ┆ program   ┆ quote_timestamp  ┆ CPU     ┆ … ┆ TRAY    ┆ TOR     ┆ CHASSIS ┆ total_cost │\n",
       "│ ---      ┆ ---       ┆ ---              ┆ ---     ┆   ┆ ---     ┆ ---     ┆ ---     ┆ ---        │\n",
       "│ str      ┆ str       ┆ datetime[μs]     ┆ f64     ┆   ┆ f64     ┆ f64     ┆ f64     ┆ f64        │\n",
       "╞══════════╪═══════════╪══════════════════╪═════════╪═══╪═════════╪═════════╪═════════╪════════════╡\n",
       "│ Vendor_7 ┆ Program_D ┆ 2024-09-25       ┆ 3058.4  ┆ … ┆ 115.7   ┆ 746.67  ┆ 1015.84 ┆ 34309.11   │\n",
       "│          ┆           ┆ 03:52:19.637095  ┆         ┆   ┆         ┆         ┆         ┆            │\n",
       "│ Vendor_6 ┆ Program_E ┆ 2024-09-12       ┆ 3242.1  ┆ … ┆ 700.5   ┆ 728.08  ┆ 1068.57 ┆ 57354.15   │\n",
       "│          ┆           ┆ 00:26:22.414219  ┆         ┆   ┆         ┆         ┆         ┆            │\n",
       "│ Vendor_5 ┆ Program_A ┆ 2024-09-23       ┆ 7206.96 ┆ … ┆ 275.76  ┆ 734.33  ┆ 1770.98 ┆ 17566.51   │\n",
       "│          ┆           ┆ 18:35:08.078890  ┆         ┆   ┆         ┆         ┆         ┆            │\n",
       "│ Vendor_5 ┆ Program_B ┆ 2024-09-24       ┆ 5336.48 ┆ … ┆ 641.04  ┆ 1232.26 ┆ 1563.11 ┆ 30576.49   │\n",
       "│          ┆           ┆ 11:33:41.034306  ┆         ┆   ┆         ┆         ┆         ┆            │\n",
       "│ Vendor_3 ┆ Program_A ┆ 2024-09-17       ┆ 8133.12 ┆ … ┆ 395.88  ┆ 547.85  ┆ 1108.16 ┆ 18337.45   │\n",
       "│          ┆           ┆ 18:56:17.120014  ┆         ┆   ┆         ┆         ┆         ┆            │\n",
       "│ …        ┆ …         ┆ …                ┆ …       ┆ … ┆ …       ┆ …       ┆ …       ┆ …          │\n",
       "│ Vendor_5 ┆ Program_A ┆ 2024-09-05       ┆ 7932.0  ┆ … ┆ 462.6   ┆ 684.71  ┆ 1268.8  ┆ 17768.43   │\n",
       "│          ┆           ┆ 03:11:32.722222  ┆         ┆   ┆         ┆         ┆         ┆            │\n",
       "│ Vendor_4 ┆ Program_C ┆ 2024-09-08       ┆ 9483.04 ┆ … ┆ 1304.24 ┆ 617.82  ┆ 1820.72 ┆ 22611.56   │\n",
       "│          ┆           ┆ 16:45:01.071635  ┆         ┆   ┆         ┆         ┆         ┆            │\n",
       "│ Vendor_4 ┆ Program_E ┆ 2024-09-11       ┆ 3137.7  ┆ … ┆ 274.6   ┆ 711.28  ┆ 1094.2  ┆ 45293.58   │\n",
       "│          ┆           ┆ 17:20:46.390587  ┆         ┆   ┆         ┆         ┆         ┆            │\n",
       "│ Vendor_4 ┆ Program_D ┆ 2024-09-18       ┆ 3106.8  ┆ … ┆ 974.9   ┆ 607.15  ┆ 1170.61 ┆ 41156.46   │\n",
       "│          ┆           ┆ 01:40:39.987961  ┆         ┆   ┆         ┆         ┆         ┆            │\n",
       "│ Vendor_6 ┆ Program_E ┆ 2024-09-12       ┆ 3390.8  ┆ … ┆ 115.7   ┆ 611.23  ┆ 1677.63 ┆ 46330.56   │\n",
       "│          ┆           ┆ 23:45:09.765369  ┆         ┆   ┆         ┆         ┆         ┆            │\n",
       "└──────────┴───────────┴──────────────────┴─────────┴───┴─────────┴─────────┴─────────┴────────────┘"
      ]
     },
     "execution_count": 123,
     "metadata": {},
     "output_type": "execute_result"
    }
   ],
   "source": [
    "# Part 3: Pivot Back\n",
    "# Pivot back to OG form so we can sum across columns to get the sum of all the comments per vendor/program/time\n",
    "pivoted_df = scaled_components_df.pivot(\n",
    "    values=\"scaled_price\",                 \n",
    "    index=[\"vendor\", \"program\", \"quote_timestamp\"],  \n",
    "    on=\"Item\",                      \n",
    "    aggregate_function=\"first\"     \n",
    ")\n",
    "\n",
    "scaled_quote_lines_df = pivoted_df.with_columns(\n",
    "    pl.sum_horizontal(\n",
    "        pivoted_df.select(pl.col(pl.Float64))  \n",
    "    ).alias(\"total_cost\")\n",
    ")\n",
    "\n",
    "scaled_quote_lines_df\n"
   ]
  },
  {
   "cell_type": "markdown",
   "metadata": {},
   "source": [
    "### Comparing Outputs to Ensure Quote Line and Quote Summary Totals Match\n",
    "We will merge the `scaled_quote_lines_df` with `filtered_quote_summaries_df` to compare the summary total against the itemized total. This comparison will help ensure that the total from the detailed quote lines matches the overall summary total provided by the vendors."
   ]
  },
  {
   "cell_type": "code",
   "execution_count": 124,
   "metadata": {},
   "outputs": [
    {
     "data": {
      "text/html": [
       "<div><style>\n",
       ".dataframe > thead > tr,\n",
       ".dataframe > tbody > tr {\n",
       "  text-align: right;\n",
       "  white-space: pre-wrap;\n",
       "}\n",
       "</style>\n",
       "<small>shape: (155, 16)</small><table border=\"1\" class=\"dataframe\"><thead><tr><th>vendor</th><th>program</th><th>quote_timestamp</th><th>CPU</th><th>GPU</th><th>RAM</th><th>SSD</th><th>HDD</th><th>MOBO</th><th>NIC</th><th>PSU</th><th>TRAY</th><th>TOR</th><th>CHASSIS</th><th>total_cost</th><th>reported_total_price</th></tr><tr><td>str</td><td>str</td><td>datetime[μs]</td><td>f64</td><td>f64</td><td>f64</td><td>f64</td><td>f64</td><td>f64</td><td>f64</td><td>f64</td><td>f64</td><td>f64</td><td>f64</td><td>f64</td><td>f64</td></tr></thead><tbody><tr><td>&quot;Vendor_7&quot;</td><td>&quot;Program_A&quot;</td><td>2024-09-08 09:24:26.457788</td><td>7529.04</td><td>0.0</td><td>2547.84</td><td>2372.28</td><td>0.0</td><td>1237.92</td><td>544.56</td><td>1002.84</td><td>744.84</td><td>709.1</td><td>1478.43</td><td>18166.85</td><td>18166.85</td></tr><tr><td>&quot;Vendor_1&quot;</td><td>&quot;Program_D&quot;</td><td>2024-09-24 20:49:52.296317</td><td>3284.0</td><td>0.0</td><td>4025.6</td><td>1971.3</td><td>38052.0</td><td>894.8</td><td>460.8</td><td>948.8</td><td>937.2</td><td>729.42</td><td>1223.36</td><td>52527.28</td><td>52527.28</td></tr><tr><td>&quot;Vendor_1&quot;</td><td>&quot;Program_D&quot;</td><td>2024-09-04 17:07:58.019610</td><td>3330.4</td><td>0.0</td><td>3813.6</td><td>1958.8</td><td>21304.0</td><td>856.0</td><td>581.0</td><td>1035.2</td><td>982.2</td><td>688.4</td><td>1995.68</td><td>36545.28</td><td>36545.28</td></tr><tr><td>&quot;Vendor_5&quot;</td><td>&quot;Program_D&quot;</td><td>2024-09-04 20:43:51.024192</td><td>3444.4</td><td>0.0</td><td>3619.2</td><td>1949.1</td><td>23316.0</td><td>1129.4</td><td>450.2</td><td>961.8</td><td>334.4</td><td>569.18</td><td>1090.89</td><td>36864.57</td><td>36864.57</td></tr><tr><td>&quot;Vendor_5&quot;</td><td>&quot;Program_D&quot;</td><td>2024-09-14 06:05:48.206929</td><td>3402.8</td><td>0.0</td><td>3762.4</td><td>1954.0</td><td>35994.0</td><td>1000.4</td><td>428.6</td><td>950.2</td><td>259.4</td><td>534.24</td><td>1301.38</td><td>49587.42</td><td>49587.42</td></tr><tr><td>&hellip;</td><td>&hellip;</td><td>&hellip;</td><td>&hellip;</td><td>&hellip;</td><td>&hellip;</td><td>&hellip;</td><td>&hellip;</td><td>&hellip;</td><td>&hellip;</td><td>&hellip;</td><td>&hellip;</td><td>&hellip;</td><td>&hellip;</td><td>&hellip;</td><td>&hellip;</td></tr><tr><td>&quot;Vendor_6&quot;</td><td>&quot;Program_E&quot;</td><td>2024-09-05 02:24:06.963283</td><td>3249.9</td><td>8036.0</td><td>3649.6</td><td>0.0</td><td>32394.0</td><td>1147.8</td><td>295.5</td><td>832.0</td><td>619.3</td><td>604.75</td><td>1896.5</td><td>52725.35</td><td>54307.11</td></tr><tr><td>&quot;Vendor_6&quot;</td><td>&quot;Program_B&quot;</td><td>2024-09-03 04:36:02.445715</td><td>5138.24</td><td>14357.44</td><td>1421.44</td><td>3026.72</td><td>0.0</td><td>650.88</td><td>449.6</td><td>1325.28</td><td>397.36</td><td>1480.36</td><td>1073.06</td><td>29320.38</td><td>29320.38</td></tr><tr><td>&quot;Vendor_1&quot;</td><td>&quot;Program_E&quot;</td><td>2024-09-24 10:23:03.302944</td><td>3225.3</td><td>9222.6</td><td>3528.8</td><td>0.0</td><td>32204.0</td><td>843.2</td><td>266.4</td><td>1080.4</td><td>261.2</td><td>643.35</td><td>1266.84</td><td>52542.09</td><td>54118.35</td></tr><tr><td>&quot;Vendor_7&quot;</td><td>&quot;Program_A&quot;</td><td>2024-09-20 03:53:18.814830</td><td>7463.28</td><td>0.0</td><td>2492.64</td><td>2385.36</td><td>0.0</td><td>1106.64</td><td>590.64</td><td>1240.8</td><td>1045.08</td><td>672.21</td><td>1949.51</td><td>18946.16</td><td>18946.16</td></tr><tr><td>&quot;Vendor_6&quot;</td><td>&quot;Program_E&quot;</td><td>2024-09-12 00:26:22.414219</td><td>3242.1</td><td>8927.0</td><td>3592.8</td><td>0.0</td><td>36906.0</td><td>1001.2</td><td>288.0</td><td>899.9</td><td>700.5</td><td>728.08</td><td>1068.57</td><td>57354.15</td><td>57354.15</td></tr></tbody></table></div>"
      ],
      "text/plain": [
       "shape: (155, 16)\n",
       "┌──────────┬───────────┬──────────────┬─────────┬───┬─────────┬─────────┬────────────┬─────────────┐\n",
       "│ vendor   ┆ program   ┆ quote_timest ┆ CPU     ┆ … ┆ TOR     ┆ CHASSIS ┆ total_cost ┆ reported_to │\n",
       "│ ---      ┆ ---       ┆ amp          ┆ ---     ┆   ┆ ---     ┆ ---     ┆ ---        ┆ tal_price   │\n",
       "│ str      ┆ str       ┆ ---          ┆ f64     ┆   ┆ f64     ┆ f64     ┆ f64        ┆ ---         │\n",
       "│          ┆           ┆ datetime[μs] ┆         ┆   ┆         ┆         ┆            ┆ f64         │\n",
       "╞══════════╪═══════════╪══════════════╪═════════╪═══╪═════════╪═════════╪════════════╪═════════════╡\n",
       "│ Vendor_7 ┆ Program_A ┆ 2024-09-08   ┆ 7529.04 ┆ … ┆ 709.1   ┆ 1478.43 ┆ 18166.85   ┆ 18166.85    │\n",
       "│          ┆           ┆ 09:24:26.457 ┆         ┆   ┆         ┆         ┆            ┆             │\n",
       "│          ┆           ┆ 788          ┆         ┆   ┆         ┆         ┆            ┆             │\n",
       "│ Vendor_1 ┆ Program_D ┆ 2024-09-24   ┆ 3284.0  ┆ … ┆ 729.42  ┆ 1223.36 ┆ 52527.28   ┆ 52527.28    │\n",
       "│          ┆           ┆ 20:49:52.296 ┆         ┆   ┆         ┆         ┆            ┆             │\n",
       "│          ┆           ┆ 317          ┆         ┆   ┆         ┆         ┆            ┆             │\n",
       "│ Vendor_1 ┆ Program_D ┆ 2024-09-04   ┆ 3330.4  ┆ … ┆ 688.4   ┆ 1995.68 ┆ 36545.28   ┆ 36545.28    │\n",
       "│          ┆           ┆ 17:07:58.019 ┆         ┆   ┆         ┆         ┆            ┆             │\n",
       "│          ┆           ┆ 610          ┆         ┆   ┆         ┆         ┆            ┆             │\n",
       "│ Vendor_5 ┆ Program_D ┆ 2024-09-04   ┆ 3444.4  ┆ … ┆ 569.18  ┆ 1090.89 ┆ 36864.57   ┆ 36864.57    │\n",
       "│          ┆           ┆ 20:43:51.024 ┆         ┆   ┆         ┆         ┆            ┆             │\n",
       "│          ┆           ┆ 192          ┆         ┆   ┆         ┆         ┆            ┆             │\n",
       "│ Vendor_5 ┆ Program_D ┆ 2024-09-14   ┆ 3402.8  ┆ … ┆ 534.24  ┆ 1301.38 ┆ 49587.42   ┆ 49587.42    │\n",
       "│          ┆           ┆ 06:05:48.206 ┆         ┆   ┆         ┆         ┆            ┆             │\n",
       "│          ┆           ┆ 929          ┆         ┆   ┆         ┆         ┆            ┆             │\n",
       "│ …        ┆ …         ┆ …            ┆ …       ┆ … ┆ …       ┆ …       ┆ …          ┆ …           │\n",
       "│ Vendor_6 ┆ Program_E ┆ 2024-09-05   ┆ 3249.9  ┆ … ┆ 604.75  ┆ 1896.5  ┆ 52725.35   ┆ 54307.11    │\n",
       "│          ┆           ┆ 02:24:06.963 ┆         ┆   ┆         ┆         ┆            ┆             │\n",
       "│          ┆           ┆ 283          ┆         ┆   ┆         ┆         ┆            ┆             │\n",
       "│ Vendor_6 ┆ Program_B ┆ 2024-09-03   ┆ 5138.24 ┆ … ┆ 1480.36 ┆ 1073.06 ┆ 29320.38   ┆ 29320.38    │\n",
       "│          ┆           ┆ 04:36:02.445 ┆         ┆   ┆         ┆         ┆            ┆             │\n",
       "│          ┆           ┆ 715          ┆         ┆   ┆         ┆         ┆            ┆             │\n",
       "│ Vendor_1 ┆ Program_E ┆ 2024-09-24   ┆ 3225.3  ┆ … ┆ 643.35  ┆ 1266.84 ┆ 52542.09   ┆ 54118.35    │\n",
       "│          ┆           ┆ 10:23:03.302 ┆         ┆   ┆         ┆         ┆            ┆             │\n",
       "│          ┆           ┆ 944          ┆         ┆   ┆         ┆         ┆            ┆             │\n",
       "│ Vendor_7 ┆ Program_A ┆ 2024-09-20   ┆ 7463.28 ┆ … ┆ 672.21  ┆ 1949.51 ┆ 18946.16   ┆ 18946.16    │\n",
       "│          ┆           ┆ 03:53:18.814 ┆         ┆   ┆         ┆         ┆            ┆             │\n",
       "│          ┆           ┆ 830          ┆         ┆   ┆         ┆         ┆            ┆             │\n",
       "│ Vendor_6 ┆ Program_E ┆ 2024-09-12   ┆ 3242.1  ┆ … ┆ 728.08  ┆ 1068.57 ┆ 57354.15   ┆ 57354.15    │\n",
       "│          ┆           ┆ 00:26:22.414 ┆         ┆   ┆         ┆         ┆            ┆             │\n",
       "│          ┆           ┆ 219          ┆         ┆   ┆         ┆         ┆            ┆             │\n",
       "└──────────┴───────────┴──────────────┴─────────┴───┴─────────┴─────────┴────────────┴─────────────┘"
      ]
     },
     "execution_count": 124,
     "metadata": {},
     "output_type": "execute_result"
    }
   ],
   "source": [
    "# Join between the two DataFrames on 'vendor', 'program', and 'quote_timestamp'\n",
    "final_merged_df = scaled_quote_lines_df.join(\n",
    "    filtered_quote_summaries_df1,\n",
    "    on=[\"vendor\", \"program\", \"quote_timestamp\"], \n",
    "    how=\"inner\"  \n",
    ")\n",
    "\n",
    "final_merged_df"
   ]
  },
  {
   "cell_type": "code",
   "execution_count": 130,
   "metadata": {},
   "outputs": [
    {
     "name": "stdout",
     "output_type": "stream",
     "text": [
      "\n",
      "Discrepancies found between reported_total_price and total_cost:\n",
      "shape: (12, 16)\n",
      "┌──────────┬───────────┬──────────────┬─────────┬───┬─────────┬─────────┬────────────┬─────────────┐\n",
      "│ vendor   ┆ program   ┆ quote_timest ┆ CPU     ┆ … ┆ TOR     ┆ CHASSIS ┆ total_cost ┆ reported_to │\n",
      "│ ---      ┆ ---       ┆ amp          ┆ ---     ┆   ┆ ---     ┆ ---     ┆ ---        ┆ tal_price   │\n",
      "│ str      ┆ str       ┆ ---          ┆ f64     ┆   ┆ f64     ┆ f64     ┆ f64        ┆ ---         │\n",
      "│          ┆           ┆ datetime[μs] ┆         ┆   ┆         ┆         ┆            ┆ f64         │\n",
      "╞══════════╪═══════════╪══════════════╪═════════╪═══╪═════════╪═════════╪════════════╪═════════════╡\n",
      "│ Vendor_6 ┆ Program_E ┆ 2024-09-12   ┆ 3282.1  ┆ … ┆ 705.71  ┆ 1619.31 ┆ 48689.12   ┆ 50149.79    │\n",
      "│          ┆           ┆ 21:33:39.401 ┆         ┆   ┆         ┆         ┆            ┆             │\n",
      "│          ┆           ┆ 565          ┆         ┆   ┆         ┆         ┆            ┆             │\n",
      "│ Vendor_4 ┆ Program_D ┆ 2024-09-13   ┆ 3326.1  ┆ … ┆ 655.14  ┆ 1595.21 ┆ 40820.55   ┆ 42045.17    │\n",
      "│          ┆           ┆ 16:01:44.058 ┆         ┆   ┆         ┆         ┆            ┆             │\n",
      "│          ┆           ┆ 599          ┆         ┆   ┆         ┆         ┆            ┆             │\n",
      "│ Vendor_6 ┆ Program_A ┆ 2024-09-06   ┆ 7796.4  ┆ … ┆ 565.97  ┆ 1532.34 ┆ 17886.11   ┆ 18422.69    │\n",
      "│          ┆           ┆ 01:08:17.028 ┆         ┆   ┆         ┆         ┆            ┆             │\n",
      "│          ┆           ┆ 693          ┆         ┆   ┆         ┆         ┆            ┆             │\n",
      "│ Vendor_7 ┆ Program_B ┆ 2024-09-10   ┆ 5437.12 ┆ … ┆ 1480.52 ┆ 1835.58 ┆ 30821.3    ┆ 31745.94    │\n",
      "│          ┆           ┆ 09:12:32.653 ┆         ┆   ┆         ┆         ┆            ┆             │\n",
      "│          ┆           ┆ 720          ┆         ┆   ┆         ┆         ┆            ┆             │\n",
      "│ Vendor_5 ┆ Program_A ┆ 2024-09-10   ┆ 7337.76 ┆ … ┆ 578.4   ┆ 1256.38 ┆ 17162.74   ┆ 17677.62    │\n",
      "│          ┆           ┆ 15:42:36.421 ┆         ┆   ┆         ┆         ┆            ┆             │\n",
      "│          ┆           ┆ 205          ┆         ┆   ┆         ┆         ┆            ┆             │\n",
      "│ …        ┆ …         ┆ …            ┆ …       ┆ … ┆ …       ┆ …       ┆ …          ┆ …           │\n",
      "│ Vendor_3 ┆ Program_D ┆ 2024-09-10   ┆ 3024.6  ┆ … ┆ 549.6   ┆ 1379.75 ┆ 36124.05   ┆ 37207.77    │\n",
      "│          ┆           ┆ 21:59:16.732 ┆         ┆   ┆         ┆         ┆            ┆             │\n",
      "│          ┆           ┆ 019          ┆         ┆   ┆         ┆         ┆            ┆             │\n",
      "│ Vendor_5 ┆ Program_B ┆ 2024-09-24   ┆ 5336.48 ┆ … ┆ 1232.26 ┆ 1563.11 ┆ 30576.49   ┆ 31493.78    │\n",
      "│          ┆           ┆ 11:33:41.034 ┆         ┆   ┆         ┆         ┆            ┆             │\n",
      "│          ┆           ┆ 306          ┆         ┆   ┆         ┆         ┆            ┆             │\n",
      "│ Vendor_6 ┆ Program_C ┆ 2024-09-04   ┆ 9275.84 ┆ … ┆ 638.91  ┆ 1779.45 ┆ 21020.3    ┆ 21650.91    │\n",
      "│          ┆           ┆ 16:57:51.687 ┆         ┆   ┆         ┆         ┆            ┆             │\n",
      "│          ┆           ┆ 340          ┆         ┆   ┆         ┆         ┆            ┆             │\n",
      "│ Vendor_6 ┆ Program_E ┆ 2024-09-05   ┆ 3249.9  ┆ … ┆ 604.75  ┆ 1896.5  ┆ 52725.35   ┆ 54307.11    │\n",
      "│          ┆           ┆ 02:24:06.963 ┆         ┆   ┆         ┆         ┆            ┆             │\n",
      "│          ┆           ┆ 283          ┆         ┆   ┆         ┆         ┆            ┆             │\n",
      "│ Vendor_1 ┆ Program_E ┆ 2024-09-24   ┆ 3225.3  ┆ … ┆ 643.35  ┆ 1266.84 ┆ 52542.09   ┆ 54118.35    │\n",
      "│          ┆           ┆ 10:23:03.302 ┆         ┆   ┆         ┆         ┆            ┆             │\n",
      "│          ┆           ┆ 944          ┆         ┆   ┆         ┆         ┆            ┆             │\n",
      "└──────────┴───────────┴──────────────┴─────────┴───┴─────────┴─────────┴────────────┴─────────────┘\n"
     ]
    }
   ],
   "source": [
    "# Adding in some tolerance  \n",
    "epsilon = 1e-6  \n",
    "\n",
    "mismatches_df = final_merged_df.filter(\n",
    "    (pl.col(\"reported_total_price\") - pl.col(\"total_cost\")).abs() > epsilon\n",
    ")\n",
    "\n",
    "if mismatches_df.height > 0:\n",
    "    print(\"\\nDiscrepancies found between reported_total_price and total_cost:\")\n",
    "    print(mismatches_df)\n",
    "else:\n",
    "    print(\"\\nAll values match between reported_total_price and total_cost within the tolerance.\")\n"
   ]
  },
  {
   "cell_type": "markdown",
   "metadata": {},
   "source": [
    "### Final Merged Dataframe That Complies with Data Validation Requirements  \n",
    "\n",
    "To ensure we're following the data validation requirements, we filter the merged DataFrame based on the difference between the `reported_total_price` and the calculated `total_cost`. We allowed for a small margin of error defined by epsilon to account for potential rounding differences."
   ]
  },
  {
   "cell_type": "code",
   "execution_count": 126,
   "metadata": {},
   "outputs": [
    {
     "name": "stdout",
     "output_type": "stream",
     "text": [
      "\n",
      "Validated Merged DataFrame (with matching total costs):\n"
     ]
    },
    {
     "data": {
      "text/html": [
       "<div><style>\n",
       ".dataframe > thead > tr,\n",
       ".dataframe > tbody > tr {\n",
       "  text-align: right;\n",
       "  white-space: pre-wrap;\n",
       "}\n",
       "</style>\n",
       "<small>shape: (143, 16)</small><table border=\"1\" class=\"dataframe\"><thead><tr><th>vendor</th><th>program</th><th>quote_timestamp</th><th>CPU</th><th>GPU</th><th>RAM</th><th>SSD</th><th>HDD</th><th>MOBO</th><th>NIC</th><th>PSU</th><th>TRAY</th><th>TOR</th><th>CHASSIS</th><th>total_cost</th><th>reported_total_price</th></tr><tr><td>str</td><td>str</td><td>datetime[μs]</td><td>f64</td><td>f64</td><td>f64</td><td>f64</td><td>f64</td><td>f64</td><td>f64</td><td>f64</td><td>f64</td><td>f64</td><td>f64</td><td>f64</td><td>f64</td></tr></thead><tbody><tr><td>&quot;Vendor_7&quot;</td><td>&quot;Program_A&quot;</td><td>2024-09-08 09:24:26.457788</td><td>7529.04</td><td>0.0</td><td>2547.84</td><td>2372.28</td><td>0.0</td><td>1237.92</td><td>544.56</td><td>1002.84</td><td>744.84</td><td>709.1</td><td>1478.43</td><td>18166.85</td><td>18166.85</td></tr><tr><td>&quot;Vendor_1&quot;</td><td>&quot;Program_D&quot;</td><td>2024-09-24 20:49:52.296317</td><td>3284.0</td><td>0.0</td><td>4025.6</td><td>1971.3</td><td>38052.0</td><td>894.8</td><td>460.8</td><td>948.8</td><td>937.2</td><td>729.42</td><td>1223.36</td><td>52527.28</td><td>52527.28</td></tr><tr><td>&quot;Vendor_1&quot;</td><td>&quot;Program_D&quot;</td><td>2024-09-04 17:07:58.019610</td><td>3330.4</td><td>0.0</td><td>3813.6</td><td>1958.8</td><td>21304.0</td><td>856.0</td><td>581.0</td><td>1035.2</td><td>982.2</td><td>688.4</td><td>1995.68</td><td>36545.28</td><td>36545.28</td></tr><tr><td>&quot;Vendor_5&quot;</td><td>&quot;Program_D&quot;</td><td>2024-09-04 20:43:51.024192</td><td>3444.4</td><td>0.0</td><td>3619.2</td><td>1949.1</td><td>23316.0</td><td>1129.4</td><td>450.2</td><td>961.8</td><td>334.4</td><td>569.18</td><td>1090.89</td><td>36864.57</td><td>36864.57</td></tr><tr><td>&quot;Vendor_5&quot;</td><td>&quot;Program_D&quot;</td><td>2024-09-14 06:05:48.206929</td><td>3402.8</td><td>0.0</td><td>3762.4</td><td>1954.0</td><td>35994.0</td><td>1000.4</td><td>428.6</td><td>950.2</td><td>259.4</td><td>534.24</td><td>1301.38</td><td>49587.42</td><td>49587.42</td></tr><tr><td>&hellip;</td><td>&hellip;</td><td>&hellip;</td><td>&hellip;</td><td>&hellip;</td><td>&hellip;</td><td>&hellip;</td><td>&hellip;</td><td>&hellip;</td><td>&hellip;</td><td>&hellip;</td><td>&hellip;</td><td>&hellip;</td><td>&hellip;</td><td>&hellip;</td><td>&hellip;</td></tr><tr><td>&quot;Vendor_1&quot;</td><td>&quot;Program_C&quot;</td><td>2024-09-08 22:11:29.817579</td><td>8716.96</td><td>0.0</td><td>2692.48</td><td>2709.7</td><td>0.0</td><td>1313.34</td><td>790.16</td><td>1204.98</td><td>723.66</td><td>587.21</td><td>1352.27</td><td>20090.76</td><td>20090.76</td></tr><tr><td>&quot;Vendor_6&quot;</td><td>&quot;Program_B&quot;</td><td>2024-09-21 10:38:25.443676</td><td>4935.2</td><td>13267.52</td><td>1690.24</td><td>3037.92</td><td>0.0</td><td>694.08</td><td>399.04</td><td>1569.44</td><td>327.6</td><td>1114.1</td><td>1111.66</td><td>28146.8</td><td>28146.8</td></tr><tr><td>&quot;Vendor_6&quot;</td><td>&quot;Program_B&quot;</td><td>2024-09-03 04:36:02.445715</td><td>5138.24</td><td>14357.44</td><td>1421.44</td><td>3026.72</td><td>0.0</td><td>650.88</td><td>449.6</td><td>1325.28</td><td>397.36</td><td>1480.36</td><td>1073.06</td><td>29320.38</td><td>29320.38</td></tr><tr><td>&quot;Vendor_7&quot;</td><td>&quot;Program_A&quot;</td><td>2024-09-20 03:53:18.814830</td><td>7463.28</td><td>0.0</td><td>2492.64</td><td>2385.36</td><td>0.0</td><td>1106.64</td><td>590.64</td><td>1240.8</td><td>1045.08</td><td>672.21</td><td>1949.51</td><td>18946.16</td><td>18946.16</td></tr><tr><td>&quot;Vendor_6&quot;</td><td>&quot;Program_E&quot;</td><td>2024-09-12 00:26:22.414219</td><td>3242.1</td><td>8927.0</td><td>3592.8</td><td>0.0</td><td>36906.0</td><td>1001.2</td><td>288.0</td><td>899.9</td><td>700.5</td><td>728.08</td><td>1068.57</td><td>57354.15</td><td>57354.15</td></tr></tbody></table></div>"
      ],
      "text/plain": [
       "shape: (143, 16)\n",
       "┌──────────┬───────────┬──────────────┬─────────┬───┬─────────┬─────────┬────────────┬─────────────┐\n",
       "│ vendor   ┆ program   ┆ quote_timest ┆ CPU     ┆ … ┆ TOR     ┆ CHASSIS ┆ total_cost ┆ reported_to │\n",
       "│ ---      ┆ ---       ┆ amp          ┆ ---     ┆   ┆ ---     ┆ ---     ┆ ---        ┆ tal_price   │\n",
       "│ str      ┆ str       ┆ ---          ┆ f64     ┆   ┆ f64     ┆ f64     ┆ f64        ┆ ---         │\n",
       "│          ┆           ┆ datetime[μs] ┆         ┆   ┆         ┆         ┆            ┆ f64         │\n",
       "╞══════════╪═══════════╪══════════════╪═════════╪═══╪═════════╪═════════╪════════════╪═════════════╡\n",
       "│ Vendor_7 ┆ Program_A ┆ 2024-09-08   ┆ 7529.04 ┆ … ┆ 709.1   ┆ 1478.43 ┆ 18166.85   ┆ 18166.85    │\n",
       "│          ┆           ┆ 09:24:26.457 ┆         ┆   ┆         ┆         ┆            ┆             │\n",
       "│          ┆           ┆ 788          ┆         ┆   ┆         ┆         ┆            ┆             │\n",
       "│ Vendor_1 ┆ Program_D ┆ 2024-09-24   ┆ 3284.0  ┆ … ┆ 729.42  ┆ 1223.36 ┆ 52527.28   ┆ 52527.28    │\n",
       "│          ┆           ┆ 20:49:52.296 ┆         ┆   ┆         ┆         ┆            ┆             │\n",
       "│          ┆           ┆ 317          ┆         ┆   ┆         ┆         ┆            ┆             │\n",
       "│ Vendor_1 ┆ Program_D ┆ 2024-09-04   ┆ 3330.4  ┆ … ┆ 688.4   ┆ 1995.68 ┆ 36545.28   ┆ 36545.28    │\n",
       "│          ┆           ┆ 17:07:58.019 ┆         ┆   ┆         ┆         ┆            ┆             │\n",
       "│          ┆           ┆ 610          ┆         ┆   ┆         ┆         ┆            ┆             │\n",
       "│ Vendor_5 ┆ Program_D ┆ 2024-09-04   ┆ 3444.4  ┆ … ┆ 569.18  ┆ 1090.89 ┆ 36864.57   ┆ 36864.57    │\n",
       "│          ┆           ┆ 20:43:51.024 ┆         ┆   ┆         ┆         ┆            ┆             │\n",
       "│          ┆           ┆ 192          ┆         ┆   ┆         ┆         ┆            ┆             │\n",
       "│ Vendor_5 ┆ Program_D ┆ 2024-09-14   ┆ 3402.8  ┆ … ┆ 534.24  ┆ 1301.38 ┆ 49587.42   ┆ 49587.42    │\n",
       "│          ┆           ┆ 06:05:48.206 ┆         ┆   ┆         ┆         ┆            ┆             │\n",
       "│          ┆           ┆ 929          ┆         ┆   ┆         ┆         ┆            ┆             │\n",
       "│ …        ┆ …         ┆ …            ┆ …       ┆ … ┆ …       ┆ …       ┆ …          ┆ …           │\n",
       "│ Vendor_1 ┆ Program_C ┆ 2024-09-08   ┆ 8716.96 ┆ … ┆ 587.21  ┆ 1352.27 ┆ 20090.76   ┆ 20090.76    │\n",
       "│          ┆           ┆ 22:11:29.817 ┆         ┆   ┆         ┆         ┆            ┆             │\n",
       "│          ┆           ┆ 579          ┆         ┆   ┆         ┆         ┆            ┆             │\n",
       "│ Vendor_6 ┆ Program_B ┆ 2024-09-21   ┆ 4935.2  ┆ … ┆ 1114.1  ┆ 1111.66 ┆ 28146.8    ┆ 28146.8     │\n",
       "│          ┆           ┆ 10:38:25.443 ┆         ┆   ┆         ┆         ┆            ┆             │\n",
       "│          ┆           ┆ 676          ┆         ┆   ┆         ┆         ┆            ┆             │\n",
       "│ Vendor_6 ┆ Program_B ┆ 2024-09-03   ┆ 5138.24 ┆ … ┆ 1480.36 ┆ 1073.06 ┆ 29320.38   ┆ 29320.38    │\n",
       "│          ┆           ┆ 04:36:02.445 ┆         ┆   ┆         ┆         ┆            ┆             │\n",
       "│          ┆           ┆ 715          ┆         ┆   ┆         ┆         ┆            ┆             │\n",
       "│ Vendor_7 ┆ Program_A ┆ 2024-09-20   ┆ 7463.28 ┆ … ┆ 672.21  ┆ 1949.51 ┆ 18946.16   ┆ 18946.16    │\n",
       "│          ┆           ┆ 03:53:18.814 ┆         ┆   ┆         ┆         ┆            ┆             │\n",
       "│          ┆           ┆ 830          ┆         ┆   ┆         ┆         ┆            ┆             │\n",
       "│ Vendor_6 ┆ Program_E ┆ 2024-09-12   ┆ 3242.1  ┆ … ┆ 728.08  ┆ 1068.57 ┆ 57354.15   ┆ 57354.15    │\n",
       "│          ┆           ┆ 00:26:22.414 ┆         ┆   ┆         ┆         ┆            ┆             │\n",
       "│          ┆           ┆ 219          ┆         ┆   ┆         ┆         ┆            ┆             │\n",
       "└──────────┴───────────┴──────────────┴─────────┴───┴─────────┴─────────┴────────────┴─────────────┘"
      ]
     },
     "execution_count": 126,
     "metadata": {},
     "output_type": "execute_result"
    }
   ],
   "source": [
    "validated_merged = final_merged_df.filter(\n",
    "    (pl.col(\"reported_total_price\") - pl.col(\"total_cost\")).abs() <= epsilon\n",
    ")\n",
    "print(\"\\nValidated Merged DataFrame (with matching total costs):\")\n",
    "validated_merged"
   ]
  },
  {
   "cell_type": "markdown",
   "metadata": {},
   "source": [
    "# Part 3: Calculate Requested Tables\n",
    "Outputting All Requested Tables"
   ]
  },
  {
   "cell_type": "code",
   "execution_count": 132,
   "metadata": {},
   "outputs": [
    {
     "name": "stdout",
     "output_type": "stream",
     "text": [
      "Table with Extended Quantities Per Component for All Programs\n"
     ]
    },
    {
     "data": {
      "text/html": [
       "<div><style>\n",
       ".dataframe > thead > tr,\n",
       ".dataframe > tbody > tr {\n",
       "  text-align: right;\n",
       "  white-space: pre-wrap;\n",
       "}\n",
       "</style>\n",
       "<small>shape: (11, 6)</small><table border=\"1\" class=\"dataframe\"><thead><tr><th>Item</th><th>Server A</th><th>Server B</th><th>Server C</th><th>Server D</th><th>Server E</th></tr><tr><td>str</td><td>i64</td><td>i64</td><td>i64</td><td>i64</td><td>i64</td></tr></thead><tbody><tr><td>&quot;CPU&quot;</td><td>24</td><td>16</td><td>28</td><td>10</td><td>10</td></tr><tr><td>&quot;GPU&quot;</td><td>0</td><td>32</td><td>0</td><td>0</td><td>20</td></tr><tr><td>&quot;RAM&quot;</td><td>48</td><td>32</td><td>56</td><td>80</td><td>80</td></tr><tr><td>&quot;SSD&quot;</td><td>12</td><td>16</td><td>14</td><td>10</td><td>0</td></tr><tr><td>&quot;HDD&quot;</td><td>0</td><td>0</td><td>0</td><td>200</td><td>200</td></tr><tr><td>&hellip;</td><td>&hellip;</td><td>&hellip;</td><td>&hellip;</td><td>&hellip;</td><td>&hellip;</td></tr><tr><td>&quot;NIC&quot;</td><td>24</td><td>16</td><td>28</td><td>20</td><td>10</td></tr><tr><td>&quot;PSU&quot;</td><td>12</td><td>16</td><td>14</td><td>10</td><td>10</td></tr><tr><td>&quot;TRAY&quot;</td><td>12</td><td>8</td><td>14</td><td>10</td><td>10</td></tr><tr><td>&quot;TOR&quot;</td><td>1</td><td>2</td><td>1</td><td>1</td><td>1</td></tr><tr><td>&quot;CHASSIS&quot;</td><td>1</td><td>1</td><td>1</td><td>1</td><td>1</td></tr></tbody></table></div>"
      ],
      "text/plain": [
       "shape: (11, 6)\n",
       "┌─────────┬──────────┬──────────┬──────────┬──────────┬──────────┐\n",
       "│ Item    ┆ Server A ┆ Server B ┆ Server C ┆ Server D ┆ Server E │\n",
       "│ ---     ┆ ---      ┆ ---      ┆ ---      ┆ ---      ┆ ---      │\n",
       "│ str     ┆ i64      ┆ i64      ┆ i64      ┆ i64      ┆ i64      │\n",
       "╞═════════╪══════════╪══════════╪══════════╪══════════╪══════════╡\n",
       "│ CPU     ┆ 24       ┆ 16       ┆ 28       ┆ 10       ┆ 10       │\n",
       "│ GPU     ┆ 0        ┆ 32       ┆ 0        ┆ 0        ┆ 20       │\n",
       "│ RAM     ┆ 48       ┆ 32       ┆ 56       ┆ 80       ┆ 80       │\n",
       "│ SSD     ┆ 12       ┆ 16       ┆ 14       ┆ 10       ┆ 0        │\n",
       "│ HDD     ┆ 0        ┆ 0        ┆ 0        ┆ 200      ┆ 200      │\n",
       "│ …       ┆ …        ┆ …        ┆ …        ┆ …        ┆ …        │\n",
       "│ NIC     ┆ 24       ┆ 16       ┆ 28       ┆ 20       ┆ 10       │\n",
       "│ PSU     ┆ 12       ┆ 16       ┆ 14       ┆ 10       ┆ 10       │\n",
       "│ TRAY    ┆ 12       ┆ 8        ┆ 14       ┆ 10       ┆ 10       │\n",
       "│ TOR     ┆ 1        ┆ 2        ┆ 1        ┆ 1        ┆ 1        │\n",
       "│ CHASSIS ┆ 1        ┆ 1        ┆ 1        ┆ 1        ┆ 1        │\n",
       "└─────────┴──────────┴──────────┴──────────┴──────────┴──────────┘"
      ]
     },
     "execution_count": 132,
     "metadata": {},
     "output_type": "execute_result"
    }
   ],
   "source": [
    "print(\"Table with Extended Quantities Per Component for All Programs\")\n",
    "extended_quantities_df"
   ]
  },
  {
   "cell_type": "code",
   "execution_count": 127,
   "metadata": {},
   "outputs": [
    {
     "name": "stdout",
     "output_type": "stream",
     "text": [
      "Total cost per program per vendor based on the latest received quote:\n",
      "\n"
     ]
    },
    {
     "data": {
      "text/html": [
       "<div><style>\n",
       ".dataframe > thead > tr,\n",
       ".dataframe > tbody > tr {\n",
       "  text-align: right;\n",
       "  white-space: pre-wrap;\n",
       "}\n",
       "</style>\n",
       "<small>shape: (33, 4)</small><table border=\"1\" class=\"dataframe\"><thead><tr><th>program</th><th>vendor</th><th>latest_date</th><th>reported_total_price</th></tr><tr><td>str</td><td>str</td><td>datetime[μs]</td><td>f64</td></tr></thead><tbody><tr><td>&quot;Program_A&quot;</td><td>&quot;Vendor_1&quot;</td><td>2024-09-23 16:47:39.737290</td><td>18226.44</td></tr><tr><td>&quot;Program_A&quot;</td><td>&quot;Vendor_2&quot;</td><td>2024-09-22 01:24:11.930370</td><td>17658.75</td></tr><tr><td>&quot;Program_A&quot;</td><td>&quot;Vendor_3&quot;</td><td>2024-09-17 18:56:17.120014</td><td>18337.45</td></tr><tr><td>&quot;Program_A&quot;</td><td>&quot;Vendor_4&quot;</td><td>2024-09-22 22:27:29.616821</td><td>18097.66</td></tr><tr><td>&quot;Program_A&quot;</td><td>&quot;Vendor_5&quot;</td><td>2024-09-23 18:35:08.078890</td><td>17566.51</td></tr><tr><td>&hellip;</td><td>&hellip;</td><td>&hellip;</td><td>&hellip;</td></tr><tr><td>&quot;Program_E&quot;</td><td>&quot;Vendor_2&quot;</td><td>2024-09-19 22:44:42.953684</td><td>60823.12</td></tr><tr><td>&quot;Program_E&quot;</td><td>&quot;Vendor_3&quot;</td><td>2024-09-21 07:42:39.011815</td><td>50823.06</td></tr><tr><td>&quot;Program_E&quot;</td><td>&quot;Vendor_4&quot;</td><td>2024-09-22 11:12:42.133680</td><td>55786.45</td></tr><tr><td>&quot;Program_E&quot;</td><td>&quot;Vendor_5&quot;</td><td>2024-09-23 04:24:43.218127</td><td>43245.08</td></tr><tr><td>&quot;Program_E&quot;</td><td>&quot;Vendor_6&quot;</td><td>2024-09-20 12:38:17.371232</td><td>49034.84</td></tr></tbody></table></div>"
      ],
      "text/plain": [
       "shape: (33, 4)\n",
       "┌───────────┬──────────┬────────────────────────────┬──────────────────────┐\n",
       "│ program   ┆ vendor   ┆ latest_date                ┆ reported_total_price │\n",
       "│ ---       ┆ ---      ┆ ---                        ┆ ---                  │\n",
       "│ str       ┆ str      ┆ datetime[μs]               ┆ f64                  │\n",
       "╞═══════════╪══════════╪════════════════════════════╪══════════════════════╡\n",
       "│ Program_A ┆ Vendor_1 ┆ 2024-09-23 16:47:39.737290 ┆ 18226.44             │\n",
       "│ Program_A ┆ Vendor_2 ┆ 2024-09-22 01:24:11.930370 ┆ 17658.75             │\n",
       "│ Program_A ┆ Vendor_3 ┆ 2024-09-17 18:56:17.120014 ┆ 18337.45             │\n",
       "│ Program_A ┆ Vendor_4 ┆ 2024-09-22 22:27:29.616821 ┆ 18097.66             │\n",
       "│ Program_A ┆ Vendor_5 ┆ 2024-09-23 18:35:08.078890 ┆ 17566.51             │\n",
       "│ …         ┆ …        ┆ …                          ┆ …                    │\n",
       "│ Program_E ┆ Vendor_2 ┆ 2024-09-19 22:44:42.953684 ┆ 60823.12             │\n",
       "│ Program_E ┆ Vendor_3 ┆ 2024-09-21 07:42:39.011815 ┆ 50823.06             │\n",
       "│ Program_E ┆ Vendor_4 ┆ 2024-09-22 11:12:42.133680 ┆ 55786.45             │\n",
       "│ Program_E ┆ Vendor_5 ┆ 2024-09-23 04:24:43.218127 ┆ 43245.08             │\n",
       "│ Program_E ┆ Vendor_6 ┆ 2024-09-20 12:38:17.371232 ┆ 49034.84             │\n",
       "└───────────┴──────────┴────────────────────────────┴──────────────────────┘"
      ]
     },
     "execution_count": 127,
     "metadata": {},
     "output_type": "execute_result"
    }
   ],
   "source": [
    "latest_dates_df = (\n",
    "    validated_merged\n",
    "    .group_by(['vendor', 'program'])\n",
    "    .agg(\n",
    "        pl.col(\"quote_timestamp\").max().alias(\"latest_date\")  \n",
    "    )\n",
    ")\n",
    "\n",
    "latest_total_cost_per_program_per_vendor = (\n",
    "    latest_dates_df\n",
    "    .join(\n",
    "        validated_merged,\n",
    "        left_on=[\"vendor\", \"program\", \"latest_date\"],\n",
    "        right_on=[\"vendor\", \"program\", \"quote_timestamp\"]\n",
    "    )\n",
    "    .select(\n",
    "        [\"program\", \"vendor\", \"latest_date\", \"reported_total_price\"]\n",
    "    )\n",
    ")\n",
    "\n",
    "print(\"Total cost per program per vendor based on the latest received quote:\\n\")\n",
    "latest_total_cost_per_program_per_vendor.write_csv('output_tables/latest_received_total_cost_per_program_per_vendor.csv')\n",
    "latest_total_cost_per_program_per_vendor.sort([\"program\",\"vendor\"])"
   ]
  },
  {
   "cell_type": "code",
   "execution_count": 128,
   "metadata": {},
   "outputs": [
    {
     "name": "stdout",
     "output_type": "stream",
     "text": [
      "Total cost per program per vendor based on the first received quote:\n",
      "\n"
     ]
    },
    {
     "data": {
      "text/html": [
       "<div><style>\n",
       ".dataframe > thead > tr,\n",
       ".dataframe > tbody > tr {\n",
       "  text-align: right;\n",
       "  white-space: pre-wrap;\n",
       "}\n",
       "</style>\n",
       "<small>shape: (33, 4)</small><table border=\"1\" class=\"dataframe\"><thead><tr><th>program</th><th>vendor</th><th>first_date</th><th>reported_total_price</th></tr><tr><td>str</td><td>str</td><td>datetime[μs]</td><td>f64</td></tr></thead><tbody><tr><td>&quot;Program_A&quot;</td><td>&quot;Vendor_1&quot;</td><td>2024-09-02 08:30:18.429076</td><td>17555.8</td></tr><tr><td>&quot;Program_A&quot;</td><td>&quot;Vendor_2&quot;</td><td>2024-09-13 16:51:40.159684</td><td>18287.76</td></tr><tr><td>&quot;Program_A&quot;</td><td>&quot;Vendor_3&quot;</td><td>2024-09-03 20:38:52.014528</td><td>18934.65</td></tr><tr><td>&quot;Program_A&quot;</td><td>&quot;Vendor_4&quot;</td><td>2024-09-02 18:27:51.592116</td><td>18547.48</td></tr><tr><td>&quot;Program_A&quot;</td><td>&quot;Vendor_5&quot;</td><td>2024-09-05 03:11:32.722222</td><td>17768.43</td></tr><tr><td>&hellip;</td><td>&hellip;</td><td>&hellip;</td><td>&hellip;</td></tr><tr><td>&quot;Program_E&quot;</td><td>&quot;Vendor_2&quot;</td><td>2024-09-09 03:10:16.042863</td><td>48245.24</td></tr><tr><td>&quot;Program_E&quot;</td><td>&quot;Vendor_3&quot;</td><td>2024-09-02 19:47:59.236292</td><td>47761.56</td></tr><tr><td>&quot;Program_E&quot;</td><td>&quot;Vendor_4&quot;</td><td>2024-09-07 17:35:53.593231</td><td>61305.92</td></tr><tr><td>&quot;Program_E&quot;</td><td>&quot;Vendor_5&quot;</td><td>2024-09-03 05:21:26.272780</td><td>44481.12</td></tr><tr><td>&quot;Program_E&quot;</td><td>&quot;Vendor_6&quot;</td><td>2024-09-12 00:26:22.414219</td><td>57354.15</td></tr></tbody></table></div>"
      ],
      "text/plain": [
       "shape: (33, 4)\n",
       "┌───────────┬──────────┬────────────────────────────┬──────────────────────┐\n",
       "│ program   ┆ vendor   ┆ first_date                 ┆ reported_total_price │\n",
       "│ ---       ┆ ---      ┆ ---                        ┆ ---                  │\n",
       "│ str       ┆ str      ┆ datetime[μs]               ┆ f64                  │\n",
       "╞═══════════╪══════════╪════════════════════════════╪══════════════════════╡\n",
       "│ Program_A ┆ Vendor_1 ┆ 2024-09-02 08:30:18.429076 ┆ 17555.8              │\n",
       "│ Program_A ┆ Vendor_2 ┆ 2024-09-13 16:51:40.159684 ┆ 18287.76             │\n",
       "│ Program_A ┆ Vendor_3 ┆ 2024-09-03 20:38:52.014528 ┆ 18934.65             │\n",
       "│ Program_A ┆ Vendor_4 ┆ 2024-09-02 18:27:51.592116 ┆ 18547.48             │\n",
       "│ Program_A ┆ Vendor_5 ┆ 2024-09-05 03:11:32.722222 ┆ 17768.43             │\n",
       "│ …         ┆ …        ┆ …                          ┆ …                    │\n",
       "│ Program_E ┆ Vendor_2 ┆ 2024-09-09 03:10:16.042863 ┆ 48245.24             │\n",
       "│ Program_E ┆ Vendor_3 ┆ 2024-09-02 19:47:59.236292 ┆ 47761.56             │\n",
       "│ Program_E ┆ Vendor_4 ┆ 2024-09-07 17:35:53.593231 ┆ 61305.92             │\n",
       "│ Program_E ┆ Vendor_5 ┆ 2024-09-03 05:21:26.272780 ┆ 44481.12             │\n",
       "│ Program_E ┆ Vendor_6 ┆ 2024-09-12 00:26:22.414219 ┆ 57354.15             │\n",
       "└───────────┴──────────┴────────────────────────────┴──────────────────────┘"
      ]
     },
     "execution_count": 128,
     "metadata": {},
     "output_type": "execute_result"
    }
   ],
   "source": [
    "first_dates_df = (\n",
    "    validated_merged\n",
    "    .group_by(['vendor', 'program'])\n",
    "    .agg(\n",
    "        pl.col(\"quote_timestamp\").min().alias(\"first_date\")  \n",
    "    )\n",
    ")\n",
    "\n",
    "first_total_cost_per_program_per_vendor = (\n",
    "    first_dates_df\n",
    "    .join(\n",
    "        validated_merged,\n",
    "        left_on=[\"vendor\", \"program\", \"first_date\"],\n",
    "        right_on=[\"vendor\", \"program\", \"quote_timestamp\"]\n",
    "    )\n",
    "    .select(\n",
    "        [\"program\", \"vendor\", \"first_date\", \"reported_total_price\"]\n",
    "    )\n",
    "    .sort([\"program\",\"vendor\"])\n",
    ")\n",
    "\n",
    "print(\"Total cost per program per vendor based on the first received quote:\\n\")\n",
    "first_total_cost_per_program_per_vendor.write_csv('output_tables/first_received_total_cost_per_program_per_vendor.csv')\n",
    "first_total_cost_per_program_per_vendor"
   ]
  },
  {
   "cell_type": "code",
   "execution_count": 129,
   "metadata": {},
   "outputs": [
    {
     "name": "stdout",
     "output_type": "stream",
     "text": [
      "Best-in-class total cost per program:\n",
      "\n"
     ]
    },
    {
     "data": {
      "text/html": [
       "<div><style>\n",
       ".dataframe > thead > tr,\n",
       ".dataframe > tbody > tr {\n",
       "  text-align: right;\n",
       "  white-space: pre-wrap;\n",
       "}\n",
       "</style>\n",
       "<small>shape: (5, 2)</small><table border=\"1\" class=\"dataframe\"><thead><tr><th>program</th><th>best_in_class_total_cost</th></tr><tr><td>str</td><td>f64</td></tr></thead><tbody><tr><td>&quot;Program_A&quot;</td><td>15784.32</td></tr><tr><td>&quot;Program_B&quot;</td><td>26464.93</td></tr><tr><td>&quot;Program_C&quot;</td><td>18038.69</td></tr><tr><td>&quot;Program_D&quot;</td><td>32248.17</td></tr><tr><td>&quot;Program_E&quot;</td><td>38613.96</td></tr></tbody></table></div>"
      ],
      "text/plain": [
       "shape: (5, 2)\n",
       "┌───────────┬──────────────────────────┐\n",
       "│ program   ┆ best_in_class_total_cost │\n",
       "│ ---       ┆ ---                      │\n",
       "│ str       ┆ f64                      │\n",
       "╞═══════════╪══════════════════════════╡\n",
       "│ Program_A ┆ 15784.32                 │\n",
       "│ Program_B ┆ 26464.93                 │\n",
       "│ Program_C ┆ 18038.69                 │\n",
       "│ Program_D ┆ 32248.17                 │\n",
       "│ Program_E ┆ 38613.96                 │\n",
       "└───────────┴──────────────────────────┘"
      ]
     },
     "execution_count": 129,
     "metadata": {},
     "output_type": "execute_result"
    }
   ],
   "source": [
    "best_in_class = (\n",
    "    validated_merged\n",
    "    .group_by(\"program\")  \n",
    "    .agg([\n",
    "        pl.col(\"CPU\").min(),  \n",
    "        pl.col(\"GPU\").min(),\n",
    "        pl.col(\"RAM\").min(),\n",
    "        pl.col(\"SSD\").min(),\n",
    "        pl.col(\"HDD\").min(),\n",
    "        pl.col(\"MOBO\").min(),\n",
    "        pl.col(\"NIC\").min(),\n",
    "        pl.col(\"PSU\").min(),\n",
    "        pl.col(\"TRAY\").min(),\n",
    "        pl.col(\"TOR\").min(),\n",
    "        pl.col(\"CHASSIS\").min()\n",
    "    ])\n",
    "    .with_columns(\n",
    "        (pl.col(\"CPU\") + pl.col(\"GPU\") + pl.col(\"RAM\") + pl.col(\"SSD\") + pl.col(\"HDD\") +\n",
    "         pl.col(\"MOBO\") + pl.col(\"NIC\") + pl.col(\"PSU\") + pl.col(\"TRAY\") +\n",
    "         pl.col(\"TOR\") + pl.col(\"CHASSIS\")).alias(\"best_in_class_total_cost\")  \n",
    "    )\n",
    "    .select([\"program\", \"best_in_class_total_cost\"])\n",
    ")\n",
    "\n",
    "print(\"Best-in-class total cost per program:\\n\")\n",
    "best_in_class.write_csv('output_tables/best-in-class.csv')\n",
    "best_in_class.sort([\"program\"])\n"
   ]
  }
 ],
 "metadata": {
  "kernelspec": {
   "display_name": "Python 3",
   "language": "python",
   "name": "python3"
  },
  "language_info": {
   "codemirror_mode": {
    "name": "ipython",
    "version": 3
   },
   "file_extension": ".py",
   "mimetype": "text/x-python",
   "name": "python",
   "nbconvert_exporter": "python",
   "pygments_lexer": "ipython3",
   "version": "3.9.6"
  }
 },
 "nbformat": 4,
 "nbformat_minor": 2
}
